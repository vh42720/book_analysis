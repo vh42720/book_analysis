{
 "cells": [
  {
   "cell_type": "markdown",
   "metadata": {
    "collapsed": true,
    "pycharm": {
     "name": "#%% md\n"
    }
   },
   "source": [
    "### Project proposals\n",
    "Q. What is the problem I want to solve.  \n",
    "\n",
    "At nine seventeen on a Thursday morning, I gave up my dream of becoming the \n",
    "undiscovered genius novelist. My professor kindly informed me – beside the lack \n",
    "of proper grammars, unorthodox English spelling and a clear direction - that my \n",
    "5 pages of essay won’t make the New York time best-selling list anytime soon. \n",
    "Unfortunately, it was all I could write down given the many head scratching \n",
    "and web browsing.\n",
    "\n",
    "Nowadays, I as an avid reader often wonder how much technology can transform \n",
    "the oldest craft of men. While artificial intelligent is developing at an \n",
    "impressive rate, writing a best-selling book lays far in the future for \n",
    "the machines. And even before it started to invade the prestigious New York Time\n",
    "list, what are the best ideas to get a successful book? \n",
    "How to get the “generally” good sales? What genre should it focuses on? \n",
    "How to get the best rating possible? Below is the objective analysis on this \n",
    "very subjective discipline. \n",
    "\n",
    "Q. Who is your client and why do they care about this problem? In other words, \n",
    "what will your client do or decide based on your analysis that they wouldn’t have \n",
    "done otherwise?  \n",
    "\n",
    "While this analysis would provide a good starting point for the future \n",
    "machine-writer who wants to challenge the human writer, there is no reason why \n",
    "this cannot apply to the many dorm room authors out there. \n",
    "This paper will not show you how to write a good book – English classes teach \n",
    "you that. However, it will provide honest facts on building a popular book. \n",
    "\n",
    "Q. What data are you using? How will you acquire the data?  \n",
    "\n",
    "I am using multiples of dataset: \n",
    "1. [publishers](https://corgis-edu.github.io/corgis/csv/publishers/)\n",
    "    * Ebook sales data from Amazon for 27k titles in 2015\n",
    "2. [BX-Book-Rating](http://www2.informatik.uni-freiburg.de/~cziegler/BX/)\n",
    "    * Rating info on over 270k titles\n",
    "3. [BX-Books](http://www2.informatik.uni-freiburg.de/~cziegler/BX/)\n",
    "    * Books info on over 270k title above. Lacking isbn!\n",
    "4. [kindle](https://bigml.com/dashboard/dataset/5e7999ae59f5c368a40037e0)\n",
    "    * Books info on 45k kindle books. Including price\n",
    "5. [goodreads](https://www.kaggle.com/jealousleopard/goodreadsbooks#books.csv)\n",
    "    * Goodreads book dataset including rating and reviews\n",
    "6. [nyt_fiction](https://www.kaggle.com/cmenca/new-york-times-hardcover-fiction-best-sellers)\n",
    "\n",
    "\n",
    "Q. Briefly outline how you’ll solve this problem\n",
    "  1. Is this a supervised or unsupervised problem?  \n",
    "        This is a supervised problem.\n",
    "  2. If supervised is it a classification or regression problem?  \n",
    "        Regression.\n",
    "  3. What variable is it you are trying to predict?  \n",
    "        Sales volume / Revenue\n",
    "  4. What variables will you use as predictors?  \n",
    "        genre, sale_price, publisher_type, statistics_total_reviews, sold_by \n",
    "  5. What will be your training data?  \n",
    "        I will use K-fold for this problem. \n",
    "\n",
    "\n"
   ]
  }
 ],
 "metadata": {
  "kernelspec": {
   "display_name": "Python 3",
   "language": "python",
   "name": "python3"
  },
  "language_info": {
   "codemirror_mode": {
    "name": "ipython",
    "version": 2
   },
   "file_extension": ".py",
   "mimetype": "text/x-python",
   "name": "python",
   "nbconvert_exporter": "python",
   "pygments_lexer": "ipython2",
   "version": "2.7.6"
  },
  "pycharm": {
   "stem_cell": {
    "cell_type": "raw",
    "source": [],
    "metadata": {
     "collapsed": false
    }
   }
  }
 },
 "nbformat": 4,
 "nbformat_minor": 0
}
