{
 "cells": [
  {
   "cell_type": "markdown",
   "source": [
    "The following notebook will be the exploratory data analysis of the rating data set \n",
    "that is created in book_analysis. "
   ],
   "metadata": {
    "collapsed": false,
    "pycharm": {
     "name": "#%% md\n"
    }
   }
  },
  {
   "cell_type": "code",
   "execution_count": 107,
   "metadata": {
    "collapsed": true,
    "pycharm": {
     "name": "#%%\n",
     "is_executing": false
    }
   },
   "outputs": [],
   "source": [
    "import numpy as np\n",
    "import pandas as pd\n",
    "import matplotlib.pyplot as plt\n",
    "import seaborn as sns\n",
    "\n",
    "%matplotlib inline\n",
    "plt.style.use('seaborn-white')"
   ]
  },
  {
   "cell_type": "markdown",
   "source": [
    "#### Load data"
   ],
   "metadata": {
    "collapsed": false,
    "pycharm": {
     "name": "#%% md\n"
    }
   }
  },
  {
   "cell_type": "code",
   "execution_count": 108,
   "outputs": [
    {
     "name": "stdout",
     "text": [
      "<class 'pandas.core.frame.DataFrame'>\n",
      "RangeIndex: 271379 entries, 0 to 271378\n",
      "Data columns (total 6 columns):\n",
      " #   Column               Non-Null Count   Dtype  \n",
      "---  ------               --------------   -----  \n",
      " 0   ISBN                 271379 non-null  object \n",
      " 1   book_title           271379 non-null  object \n",
      " 2   book_author          271378 non-null  object \n",
      " 3   year_of_publication  271379 non-null  object \n",
      " 4   publisher            271377 non-null  object \n",
      " 5   book_rating          270170 non-null  float64\n",
      "dtypes: float64(1), object(5)\n",
      "memory usage: 12.4+ MB\n"
     ],
     "output_type": "stream"
    },
    {
     "name": "stderr",
     "text": [
      "d:\\pycharmprojects\\springboard\\venv\\lib\\site-packages\\IPython\\core\\interactiveshell.py:3063: DtypeWarning: Columns (3) have mixed types.Specify dtype option on import or set low_memory=False.\n",
      "  interactivity=interactivity, compiler=compiler, result=result)\n"
     ],
     "output_type": "stream"
    }
   ],
   "source": [
    "data_path = 'D:\\\\PycharmProjects\\\\springboard\\\\data\\\\'\n",
    "rating = pd.read_csv(f'{data_path}book_rating.csv')\n",
    "\n",
    "# data info\n",
    "rating.info()"
   ],
   "metadata": {
    "collapsed": false,
    "pycharm": {
     "name": "#%%\n",
     "is_executing": false
    }
   }
  },
  {
   "cell_type": "code",
   "execution_count": 109,
   "outputs": [],
   "source": [
    "# Create book_title_length column\n",
    "# Note that we also include white space in the title as without it the title doesnt \n",
    "# make much sense!\n",
    "rating['book_title_length'] = rating['book_title'].str.len()"
   ],
   "metadata": {
    "collapsed": false,
    "pycharm": {
     "name": "#%%\n",
     "is_executing": false
    }
   }
  },
  {
   "cell_type": "code",
   "execution_count": 119,
   "outputs": [
    {
     "name": "stderr",
     "text": [
      "d:\\pycharmprojects\\springboard\\venv\\lib\\site-packages\\pandas\\core\\strings.py:1952: UserWarning: This pattern has match groups. To actually get the groups, use str.extract.\n",
      "  return func(self, *args, **kwargs)\n"
     ],
     "output_type": "stream"
    },
    {
     "data": {
      "text/plain": "publisher\nHarlequin                       7535\nSilhouette                      4220\nPocket                          3905\nBallantine Books                3783\nBantam Books                    3646\n                                ... \nScholastic / Cartwheel Books       1\nScholastic 10x8 paperback          1\nScholastic 8x6 paperback           1\nScholastic Apple Paperbacks        1\nA Disney/Bantam Books              1\nName: ISBN, Length: 229, dtype: int64"
     },
     "metadata": {},
     "output_type": "execute_result",
     "execution_count": 119
    }
   ],
   "source": [
    "# Top publisher by number of books\n",
    "top_20_publisher = list(rating.publisher.value_counts()[:20].index)\n",
    "\n",
    "# Set pattern for top 20 publisher\n",
    "pat = '|'.join(top_20_publisher)\n",
    "\n",
    "# Columns for top 20 publishers\n",
    "rating['top_20_publisher'] = rating['publisher'].str.contains(f'({pat})').fillna(value=False)\n",
    "rating['top_20_publisher'] = rating['top_20_publisher'].astype('category')\n",
    "rating[rating['top_20_publisher'] == True].groupby('publisher')['ISBN'].count().sort_values(ascending=False)"
   ],
   "metadata": {
    "collapsed": false,
    "pycharm": {
     "name": "#%%\n",
     "is_executing": false
    }
   }
  },
  {
   "cell_type": "code",
   "execution_count": 120,
   "outputs": [
    {
     "name": "stderr",
     "text": [
      "d:\\pycharmprojects\\springboard\\venv\\lib\\site-packages\\pandas\\core\\strings.py:1952: UserWarning: This pattern has match groups. To actually get the groups, use str.extract.\n",
      "  return func(self, *args, **kwargs)\n"
     ],
     "output_type": "stream"
    },
    {
     "data": {
      "text/plain": "book_author\nStephen King                 524\nNora Roberts                 315\nJ. R. R. Tolkien             174\nDanielle Steel               173\nJohn Grisham                 138\nJames Patterson              111\nJ. K. Rowling                 78\nJ.R.R. Tolkien                46\nDan Brown                     20\nJohn Ronald Reuel Tolkien     19\nJ.K. Rowling                  10\nJ R R Tolkien                  9\nJ. R. R Tolkien                7\nRick Riordan                   5\nTolkien                        3\nMichael Wolff                  3\nChristopher Tolkien            2\nTolkien J.R.R.                 1\nDanielle Steele                1\nJohn R. R. Tolkien             1\nMichael Wolffsohn              1\nTolkienquest                   1\nName: ISBN, dtype: int64"
     },
     "metadata": {},
     "output_type": "execute_result",
     "execution_count": 120
    }
   ],
   "source": [
    "# Top authors list\n",
    "top_authors = ['Stephen King', 'J.K. Rowling', 'J. K. Rowling', 'James Patterson', 'John Grisham', 'Dan Brown',\n",
    "               'Michael Wolff', 'Nora Roberts', 'Danielle Steel', 'Rick Riordan', 'Tolkien']\n",
    "\n",
    "# Set pattern for top authors\n",
    "pat = '|'.join(top_authors)\n",
    "\n",
    "# Top author columns\n",
    "rating['top_author'] = rating['book_author'].str.contains(f'({pat})', regex=True).fillna(value=False)\n",
    "rating['top_author'] = rating['top_author'].astype('category')\n",
    "rating[rating['top_author']==True].groupby('book_author')['ISBN'].count().sort_values(ascending=False)"
   ],
   "metadata": {
    "collapsed": false,
    "pycharm": {
     "name": "#%% \n",
     "is_executing": false
    }
   }
  },
  {
   "cell_type": "markdown",
   "source": [
    "#### Exploratory Data Analysis"
   ],
   "metadata": {
    "collapsed": false,
    "pycharm": {
     "name": "#%% md\n"
    }
   }
  },
  {
   "cell_type": "code",
   "execution_count": 121,
   "outputs": [
    {
     "data": {
      "text/plain": "<matplotlib.axes._subplots.AxesSubplot at 0x1a12107d888>"
     },
     "metadata": {},
     "output_type": "execute_result",
     "execution_count": 121
    },
    {
     "data": {
      "text/plain": "<Figure size 432x288 with 1 Axes>",
      "image/png": "[encoded data removed]"
     },
     "metadata": {},
     "output_type": "display_data"
    }
   ],
   "source": [
    "# Rating distribution\n",
    "sns.distplot(rating.book_rating)"
   ],
   "metadata": {
    "collapsed": false,
    "pycharm": {
     "name": "#%%\n",
     "is_executing": false
    }
   }
  },
  {
   "cell_type": "code",
   "execution_count": 123,
   "outputs": [
    {
     "data": {
      "text/plain": "<matplotlib.axes._subplots.AxesSubplot at 0x1a10c8e4a88>"
     },
     "metadata": {},
     "output_type": "execute_result",
     "execution_count": 123
    },
    {
     "data": {
      "text/plain": "<Figure size 432x288 with 1 Axes>",
      "image/png": "[encoded data removed]"
     },
     "metadata": {},
     "output_type": "display_data"
    }
   ],
   "source": [
    "# Rating Among top authors \n",
    "sns.distplot(rating[rating['top_author']==True].book_rating)"
   ],
   "metadata": {
    "collapsed": false,
    "pycharm": {
     "name": "#%% \n",
     "is_executing": false
    }
   }
  },
  {
   "cell_type": "code",
   "execution_count": 125,
   "outputs": [
    {
     "data": {
      "text/plain": "<matplotlib.axes._subplots.AxesSubplot at 0x1a1210d7108>"
     },
     "metadata": {},
     "output_type": "execute_result",
     "execution_count": 125
    },
    {
     "data": {
      "text/plain": "<Figure size 432x288 with 1 Axes>",
      "image/png": "[encoded data removed]"
     },
     "metadata": {},
     "output_type": "display_data"
    }
   ],
   "source": [
    "# Book title length distribution\n",
    "sns.distplot(rating.book_title_length)"
   ],
   "metadata": {
    "collapsed": false,
    "pycharm": {
     "name": "#%%\n",
     "is_executing": false
    }
   }
  }
 ],
 "metadata": {
  "kernelspec": {
   "display_name": "Python 3",
   "language": "python",
   "name": "python3"
  },
  "language_info": {
   "codemirror_mode": {
    "name": "ipython",
    "version": 2
   },
   "file_extension": ".py",
   "mimetype": "text/x-python",
   "name": "python",
   "nbconvert_exporter": "python",
   "pygments_lexer": "ipython2",
   "version": "2.7.6"
  },
  "pycharm": {
   "stem_cell": {
    "cell_type": "raw",
    "source": [],
    "metadata": {
     "collapsed": false
    }
   }
  }
 },
 "nbformat": 4,
 "nbformat_minor": 0
}
