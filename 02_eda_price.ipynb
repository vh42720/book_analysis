{
 "cells": [
  {
   "cell_type": "markdown",
   "metadata": {
    "collapsed": true,
    "pycharm": {
     "name": "#%% md\n"
    }
   },
   "source": [
    "## Book Price EDA\n",
    "\n",
    "The following notebooks will explore the general trend of sales and pricing options\n",
    "for books using both kindle and sales dataset.\n",
    "\n",
    "Note that both of the data compare between ebooks vs kindle ebooks on Amazon\n",
    "and not hardcover/paperback. Nevertheless, it should gives us some ides on\n",
    "the pricing trend of the market.\n",
    "\n",
    "##### Dependencies"
   ]
  },
  {
   "cell_type": "code",
   "execution_count": 6,
   "outputs": [],
   "source": [
    "import numpy as np\n",
    "import pandas as pd\n",
    "import matplotlib.pyplot as plt\n",
    "import seaborn as sns\n",
    "\n",
    "%matplotlib inline\n",
    "plt.style.use('seaborn-white')"
   ],
   "metadata": {
    "collapsed": false,
    "pycharm": {
     "name": "#%%\n"
    }
   }
  },
  {
   "cell_type": "code",
   "execution_count": 7,
   "outputs": [
    {
     "data": {
      "text/plain": "           genre                         sold_by  daily_average_units_sold  \\\n0  genre fiction        HarperCollins Publishers                      7000   \n1  genre fiction        HarperCollins Publishers                      6250   \n2  genre fiction  Amazon Digital Services,  Inc.                      5500   \n3        fiction             Hachette Book Group                      5500   \n4  genre fiction         Penguin Group (USA) LLC                      4750   \n\n                publisher_name publisher_type  average_rating  sale_price  \\\n0        Katherine Tegen Books       big five            4.57        4.88   \n1        HarperCollins e-books       big five            4.47        1.99   \n2  (Small or Medium Publisher)   small/medium            4.16        8.69   \n3    Little, Brown and Company       big five            3.84        7.50   \n4            Dutton Children's       big five            4.75        7.99   \n\n   total_reviews price_range  \n0           9604      normal  \n1            450       cheap  \n2             30      normal  \n3           3747      normal  \n4           9174      normal  ",
      "text/html": "<div>\n<style scoped>\n    .dataframe tbody tr th:only-of-type {\n        vertical-align: middle;\n    }\n\n    .dataframe tbody tr th {\n        vertical-align: top;\n    }\n\n    .dataframe thead th {\n        text-align: right;\n    }\n</style>\n<table border=\"1\" class=\"dataframe\">\n  <thead>\n    <tr style=\"text-align: right;\">\n      <th></th>\n      <th>genre</th>\n      <th>sold_by</th>\n      <th>daily_average_units_sold</th>\n      <th>publisher_name</th>\n      <th>publisher_type</th>\n      <th>average_rating</th>\n      <th>sale_price</th>\n      <th>total_reviews</th>\n      <th>price_range</th>\n    </tr>\n  </thead>\n  <tbody>\n    <tr>\n      <th>0</th>\n      <td>genre fiction</td>\n      <td>HarperCollins Publishers</td>\n      <td>7000</td>\n      <td>Katherine Tegen Books</td>\n      <td>big five</td>\n      <td>4.57</td>\n      <td>4.88</td>\n      <td>9604</td>\n      <td>normal</td>\n    </tr>\n    <tr>\n      <th>1</th>\n      <td>genre fiction</td>\n      <td>HarperCollins Publishers</td>\n      <td>6250</td>\n      <td>HarperCollins e-books</td>\n      <td>big five</td>\n      <td>4.47</td>\n      <td>1.99</td>\n      <td>450</td>\n      <td>cheap</td>\n    </tr>\n    <tr>\n      <th>2</th>\n      <td>genre fiction</td>\n      <td>Amazon Digital Services,  Inc.</td>\n      <td>5500</td>\n      <td>(Small or Medium Publisher)</td>\n      <td>small/medium</td>\n      <td>4.16</td>\n      <td>8.69</td>\n      <td>30</td>\n      <td>normal</td>\n    </tr>\n    <tr>\n      <th>3</th>\n      <td>fiction</td>\n      <td>Hachette Book Group</td>\n      <td>5500</td>\n      <td>Little, Brown and Company</td>\n      <td>big five</td>\n      <td>3.84</td>\n      <td>7.50</td>\n      <td>3747</td>\n      <td>normal</td>\n    </tr>\n    <tr>\n      <th>4</th>\n      <td>genre fiction</td>\n      <td>Penguin Group (USA) LLC</td>\n      <td>4750</td>\n      <td>Dutton Children's</td>\n      <td>big five</td>\n      <td>4.75</td>\n      <td>7.99</td>\n      <td>9174</td>\n      <td>normal</td>\n    </tr>\n  </tbody>\n</table>\n</div>"
     },
     "execution_count": 7,
     "metadata": {},
     "output_type": "execute_result"
    }
   ],
   "source": [
    "# cleaned book sales dataset\n",
    "data_path = 'D:\\\\PycharmProjects\\\\springboard\\\\data\\\\'\n",
    "sales = pd.read_csv(f'{data_path}book_sales.csv', index_col=[0])\n",
    "kindle = pd.read_csv(f'{data_path}book_kindle.csv')\n",
    "\n",
    "# First impression of the data\n",
    "sales.head()"
   ],
   "metadata": {
    "collapsed": false,
    "pycharm": {
     "name": "#%%\n"
    }
   }
  },
  {
   "cell_type": "markdown",
   "source": [
    "## Publishers and sales"
   ],
   "metadata": {
    "collapsed": false,
    "pycharm": {
     "name": "#%% md\n"
    }
   }
  },
  {
   "cell_type": "markdown",
   "source": [
    "First, we observes how publishers influence the books sales and prices.\n",
    "Notice big-five and indie publishers have the largest daily sales."
   ],
   "metadata": {
    "collapsed": false,
    "pycharm": {
     "name": "#%% md\n"
    }
   }
  },
  {
   "cell_type": "code",
   "execution_count": 13,
   "outputs": [
    {
     "data": {
      "text/plain": "<Figure size 432x288 with 1 Axes>",
      "image/png": "[encoded data removed]"
     },
     "metadata": {},
     "output_type": "display_data"
    }
   ],
   "source": [
    "# total sales group by distributors\n",
    "df = sales.groupby('publisher_type')[['publisher_type','daily_average_units_sold']]\\\n",
    "    .sum().sort_values(by='daily_average_units_sold',ascending=False)\n",
    "\n",
    "# Bar plot of the total daily sales\n",
    "sns.barplot(x=df.index, y='daily_average_units_sold', data=df, color='darkorange')\n",
    "plt.ylabel('Total daily sales')\n",
    "plt.xlabel('Publisher Type')\n",
    "plt.title('Daily sales by publisher type')\n",
    "plt.savefig('D:\\\\PycharmProjects\\\\springboard\\\\book_analysis\\\\images\\\\daily_sales_by_publisher.png')"
   ],
   "metadata": {
    "collapsed": false,
    "pycharm": {
     "name": "#%%\n"
    }
   }
  },
  {
   "cell_type": "code",
   "execution_count": 27,
   "outputs": [
    {
     "data": {
      "text/plain": "                daily_average_units_sold  daily_sale_percentage\npublisher_type                                                 \nbig five                          313892                   0.39\nindie                             219331                   0.27\nsmall/medium                      140644                   0.18\nsingle author                      69152                   0.09\namazon                             57360                   0.07",
      "text/html": "<div>\n<style scoped>\n    .dataframe tbody tr th:only-of-type {\n        vertical-align: middle;\n    }\n\n    .dataframe tbody tr th {\n        vertical-align: top;\n    }\n\n    .dataframe thead th {\n        text-align: right;\n    }\n</style>\n<table border=\"1\" class=\"dataframe\">\n  <thead>\n    <tr style=\"text-align: right;\">\n      <th></th>\n      <th>daily_average_units_sold</th>\n      <th>daily_sale_percentage</th>\n    </tr>\n    <tr>\n      <th>publisher_type</th>\n      <th></th>\n      <th></th>\n    </tr>\n  </thead>\n  <tbody>\n    <tr>\n      <th>big five</th>\n      <td>313892</td>\n      <td>0.39</td>\n    </tr>\n    <tr>\n      <th>indie</th>\n      <td>219331</td>\n      <td>0.27</td>\n    </tr>\n    <tr>\n      <th>small/medium</th>\n      <td>140644</td>\n      <td>0.18</td>\n    </tr>\n    <tr>\n      <th>single author</th>\n      <td>69152</td>\n      <td>0.09</td>\n    </tr>\n    <tr>\n      <th>amazon</th>\n      <td>57360</td>\n      <td>0.07</td>\n    </tr>\n  </tbody>\n</table>\n</div>"
     },
     "execution_count": 27,
     "metadata": {},
     "output_type": "execute_result"
    }
   ],
   "source": [
    "# Get daily sales percentage for plot\n",
    "df['daily_sale_percentage'] = df.daily_average_units_sold/df.daily_average_units_sold.sum()\n",
    "df['daily_sale_percentage'] = np.round(df.daily_sale_percentage, 2)"
   ],
   "metadata": {
    "collapsed": false,
    "pycharm": {
     "name": "#%%\n"
    }
   }
  },
  {
   "cell_type": "markdown",
   "source": [
    "Small/medium publishers issued the most books but have lackluster sales\n",
    "compared to the big five and indie.\n",
    "\n",
    "One of the reason is perhaps the resources behind big five publishers that\n",
    "greatly influence sales from editors to advertising."
   ],
   "metadata": {
    "collapsed": false,
    "pycharm": {
     "name": "#%% md\n"
    }
   }
  },
  {
   "cell_type": "code",
   "execution_count": 24,
   "outputs": [
    {
     "data": {
      "text/plain": "<Figure size 432x288 with 1 Axes>",
      "image/png": "[encoded data removed]"
     },
     "metadata": {},
     "output_type": "display_data"
    }
   ],
   "source": [
    "# books count group by distributors\n",
    "df2 = sales.groupby('publisher_type')[['publisher_type','daily_average_units_sold']]\\\n",
    "    .count().sort_values(by='daily_average_units_sold',ascending=False)\n",
    "\n",
    "# Bar plot of the total daily sales\n",
    "sns.barplot(x=df2.index, y='daily_average_units_sold', data=df2, color='teal')\n",
    "plt.ylabel('Number of book published')\n",
    "plt.xlabel('Publisher Type')\n",
    "plt.title('Book counts by publisher type')\n",
    "plt.savefig('D:\\\\PycharmProjects\\\\springboard\\\\book_analysis\\\\images\\\\book_count_by_publisher.png')"
   ],
   "metadata": {
    "collapsed": false,
    "pycharm": {
     "name": "#%%\n"
    }
   }
  },
  {
   "cell_type": "code",
   "execution_count": 46,
   "outputs": [
    {
     "data": {
      "text/plain": "<Figure size 432x288 with 1 Axes>",
      "image/png": "[encoded data removed]"
     },
     "metadata": {},
     "output_type": "display_data"
    }
   ],
   "source": [
    "# Get count percentage\n",
    "df2['book_count_percentage'] = df2['daily_average_units_sold'] / df2['daily_average_units_sold'].sum()\n",
    "df2['book_count_percentage'] = np.round(df2['book_count_percentage'],2)\n",
    "\n",
    "# Join and plot 2 percentages\n",
    "df3 = df.merge(df2, how='left',on=None, left_index=True,\n",
    "         right_index=True)[['daily_sale_percentage', 'book_count_percentage']]\n",
    "df3['publisher_type'] = df3.index\n",
    "df3 = df3.melt(id_vars=['publisher_type'])\n",
    "\n",
    "# Side by side bar plot\n",
    "sns.barplot(x='publisher_type', y='value', hue='variable', data=df3)\n",
    "plt.xlabel('Publisher type')\n",
    "plt.ylabel('Percentage')\n",
    "plt.title('Percentage of sales vs. book count by Publishers')\n",
    "L = plt.legend()\n",
    "L.get_texts()[0].set_text('Daily sale')\n",
    "L.get_texts()[1].set_text('Book count')\n",
    "plt.savefig('D:\\\\PycharmProjects\\\\springboard\\\\book_analysis\\\\images\\\\sale_book_count_percentage.png')"
   ],
   "metadata": {
    "collapsed": false,
    "pycharm": {
     "name": "#%%\n"
    }
   }
  },
  {
   "cell_type": "markdown",
   "source": [
    "We also observe that big-five and small/mediums publishers price their books\n",
    "quite higher than everyone else."
   ],
   "metadata": {
    "collapsed": false,
    "pycharm": {
     "name": "#%% md\n"
    }
   }
  },
  {
   "cell_type": "code",
   "execution_count": 48,
   "outputs": [
    {
     "name": "stderr",
     "output_type": "stream",
     "text": [
      "d:\\pycharmprojects\\springboard\\venv\\lib\\site-packages\\ipykernel_launcher.py:2: FutureWarning: Indexing with multiple keys (implicitly converted to a tuple of keys) will be deprecated, use a list instead.\n",
      "  \n"
     ]
    },
    {
     "data": {
      "text/plain": "<Figure size 432x288 with 1 Axes>",
      "image/png": "[encoded data removed]"
     },
     "metadata": {},
     "output_type": "display_data"
    }
   ],
   "source": [
    "# books pricing through publishers\n",
    "df = sales.groupby('publisher_type')['publisher_type','sale_price'].median()\n",
    "\n",
    "# Bar plot of the total daily sales\n",
    "sns.barplot(x=df.index, y='sale_price', data=df, color='teal')\n",
    "plt.ylabel('Median price')\n",
    "plt.xlabel('Publisher Type')\n",
    "plt.title('Median book price by publisher type')\n",
    "plt.savefig('D:\\\\PycharmProjects\\\\springboard\\\\book_analysis\\\\images\\\\book_price_by_publisher.png')"
   ],
   "metadata": {
    "collapsed": false,
    "pycharm": {
     "name": "#%%\n"
    }
   }
  },
  {
   "cell_type": "markdown",
   "source": [
    "## Publisher type and price segment\n",
    "\n",
    "Notice that most books that are have over 1000 sales are published by\n",
    "big five, indie and some amazon. Rarely does a small/medium publisher\n",
    "have a bestsellers here."
   ],
   "metadata": {
    "collapsed": false,
    "pycharm": {
     "name": "#%% md\n"
    }
   }
  },
  {
   "cell_type": "code",
   "execution_count": null,
   "outputs": [],
   "source": [
    "# Price and unit sold break down by publisher type\n",
    "sns.scatterplot(x='sale_price', y='daily_average_units_sold', data=sales, \n",
    "                hue='publisher_type')\n",
    "plt.xticks(np.linspace(sales.sale_price.min(), sales.sale_price.max(),num=20), rotation=70)\n",
    "plt.ylabel('Daily average unit sold')\n",
    "plt.xlabel('Book Price')\n",
    "plt.title('Price vs Unit sold')\n",
    "plt.savefig('images/daily_sales_vs_price_by_publisher.png')"
   ],
   "metadata": {
    "collapsed": false,
    "pycharm": {
     "name": "#%%\n"
    }
   }
  },
  {
   "cell_type": "code",
   "execution_count": null,
   "outputs": [],
   "source": [
    "# Zoom in the plot above to price under 20 only\n",
    "sns.scatterplot(x='sale_price', y='daily_average_units_sold', data=sales[sales.daily_average_units_sold > 1000],\n",
    "                hue='publisher_type')\n",
    "plt.xticks(np.arange(13))\n",
    "plt.xlabel('Sale Price')\n",
    "plt.ylabel('Daily Average Unit Sold (>1000)')\n",
    "plt.title('Price vs Unit sold (>1000)')\n",
    "plt.savefig('images/daily_sales_1000_unit_sold_by_publisher.png')"
   ],
   "metadata": {
    "collapsed": false,
    "pycharm": {
     "name": "#%%\n"
    }
   }
  },
  {
   "cell_type": "markdown",
   "source": [
    "## Pricing on books\n",
    "\n",
    "While there are many expensive books which is price at over $50, the majority of books are \n",
    "affordable (median = 5.12). Moreover, all books published by amazon are all under 20 dollars.\n",
    "\n",
    "The important finding here is all books that are sold over 1000 units per day have a price tag of\n",
    "less than 15 dollars.\n",
    "\n",
    "Moreover, big five publishers can afford to price their books much higher\n",
    "than anyone else to given the same sales figures."
   ],
   "metadata": {
    "collapsed": false
   }
  },
  {
   "cell_type": "code",
   "execution_count": null,
   "outputs": [],
   "source": [
    "# Median sale price\n",
    "print('Median book price:', sales.sale_price.median())\n",
    "print('Mean book price:', sales.sale_price.mean())"
   ],
   "metadata": {
    "collapsed": false,
    "pycharm": {
     "name": "#%%\n"
    }
   }
  },
  {
   "cell_type": "code",
   "execution_count": null,
   "outputs": [],
   "source": [
    "# Number of book price under 15 dollars\n",
    "under_15 = sum([True for x in sales.sale_price if x < 15])\n",
    "over_15 = len(sales) - under_15\n",
    "\n",
    "# Proportion of books sales under 20 vs over 20\n",
    "df = pd.DataFrame({'n':[under_15, over_15]},\n",
    "                  index=['under 15', 'over 15'])\n",
    "df.plot.pie(y='n', colors=['cadetblue', 'maroon'],\n",
    "            labels=['Under $15', 'Over $15'])\n",
    "plt.ylabel('')\n",
    "plt.title('Proportion of book ebook price')\n",
    "plt.tight_layout()\n",
    "plt.savefig('images/proportion_book_under15.png')"
   ],
   "metadata": {
    "collapsed": false,
    "pycharm": {
     "name": "#%%\n"
    }
   }
  },
  {
   "cell_type": "code",
   "execution_count": null,
   "outputs": [],
   "source": [
    "# Sale price box plot\n",
    "sns.boxplot(x='sale_price', y='publisher_type', data=sales)\n",
    "plt.title('Box plot of sale price separated by publisher_type')\n",
    "plt.savefig('images/sale_price_by_publisher_type.png')"
   ],
   "metadata": {
    "collapsed": false,
    "pycharm": {
     "name": "#%%\n"
    }
   }
  },
  {
   "cell_type": "code",
   "execution_count": null,
   "outputs": [],
   "source": [
    "# Sale price distribution\n",
    "sns.distplot(sales.sale_price, kde=True, rug=True)\n",
    "plt.title('Book sale price distribution')"
   ],
   "metadata": {
    "collapsed": false,
    "pycharm": {
     "name": "#%% \n"
    }
   }
  },
  {
   "cell_type": "markdown",
   "source": [
    "Lets take a look at books publisher broken down through a price range."
   ],
   "metadata": {
    "collapsed": false
   }
  },
  {
   "cell_type": "code",
   "execution_count": null,
   "outputs": [],
   "source": [
    "for price in [20, 40, 80, 100]:\n",
    "    print(f'Price over ${price}\\n', \n",
    "          sales[sales.sale_price > price].publisher_type.value_counts(), '\\n\\n')"
   ],
   "metadata": {
    "collapsed": false,
    "pycharm": {
     "name": "#%%\n"
    }
   }
  },
  {
   "cell_type": "markdown",
   "source": [
    "## Veblen goods\n",
    "\n",
    "We suspect books should have some properties of veblen goods where the higher\n",
    "the price, the higher the demand - up to a certain point."
   ],
   "metadata": {
    "collapsed": false
   }
  },
  {
   "cell_type": "code",
   "execution_count": null,
   "outputs": [],
   "source": [
    "sns.scatterplot(x='sale_price', y='daily_average_units_sold', data=sales[sales.price_range!='extra'],\n",
    "                hue='price_range')\n",
    "plt.ylabel('Daily Average Unit Sold')\n",
    "plt.xlabel('Sale Price')\n",
    "plt.title('Sales Price vs Unit Sold')\n",
    "plt.savefig('images/sale_price_unit_sold.png')"
   ],
   "metadata": {
    "collapsed": false,
    "pycharm": {
     "name": "#%%\n"
    }
   }
  },
  {
   "cell_type": "code",
   "execution_count": null,
   "outputs": [],
   "source": [
    "sns.scatterplot(x='sale_price', y='daily_average_units_sold',\n",
    "                data=sales[(sales.daily_average_units_sold > 1000) & (sales.sale_price < 20)],\n",
    "                hue='price_range')\n",
    "plt.ylabel('Daily Average Unit Sold')\n",
    "plt.xlabel('Sale Price')\n",
    "plt.title('Sales Price vs Unit Sold (1000+)')\n",
    "plt.savefig('images/sale_price_unit_sold_1000.png')"
   ],
   "metadata": {
    "collapsed": false,
    "pycharm": {
     "name": "#%%\n"
    }
   }
  },
  {
   "cell_type": "code",
   "execution_count": null,
   "outputs": [],
   "source": [
    "# book count by price range\n",
    "sales.groupby('price_range').size().plot(kind='barh')\n",
    "plt.title('Book count based on price range')\n",
    "plt.xlabel('Book Count')\n",
    "plt.ylabel('Price range')\n",
    "plt.savefig('images/book_count_price_range.png')"
   ],
   "metadata": {
    "collapsed": false,
    "pycharm": {
     "name": "#%%\n"
    }
   }
  },
  {
   "cell_type": "code",
   "execution_count": null,
   "outputs": [],
   "source": [
    "# kindle book price distribution\n",
    "sns.distplot(kindle[kindle.price < 40].price)\n",
    "plt.ylabel('Percentage')\n",
    "plt.xlabel('Price')\n",
    "plt.title('Price Distribution of Kindle ebooks')\n",
    "plt.savefig('images/price_kindle_dist.png')"
   ],
   "metadata": {
    "collapsed": false,
    "pycharm": {
     "name": "#%%\n"
    }
   }
  },
  {
   "cell_type": "markdown",
   "source": [
    "## Price and genre\n",
    "\n",
    "Non fiction books sell at a much higher median price than others espcially\n",
    "fiction and genre fiction.\n",
    "\n",
    "Note that comics are also priced a bit higher than all other genre perhaps\n",
    "due to production value (color, pictures...)"
   ],
   "metadata": {
    "collapsed": false,
    "pycharm": {
     "name": "#%% md\n"
    }
   }
  },
  {
   "cell_type": "code",
   "execution_count": null,
   "outputs": [],
   "source": [
    "# median price group by genre\n",
    "df = sales.groupby('genre')['sale_price', 'genre'].median()\n",
    "\n",
    "# Plot\n",
    "sns.barplot(y=df.index, x='sale_price', data=df, color='seagreen')\n",
    "plt.ylabel('Genre')\n",
    "plt.xlabel('Median Book Price')\n",
    "plt.title('Median book price by Genre')\n",
    "plt.tight_layout()\n",
    "plt.savefig('images/book_price_by_genre.png')"
   ],
   "metadata": {
    "collapsed": false,
    "pycharm": {
     "name": "#%%\n"
    }
   }
  },
  {
   "cell_type": "markdown",
   "source": [
    "## Price and number of reviews\n",
    "\n",
    "It seems the number of reviews has some small to no effect on price as\n",
    "seen on both log scaled plot."
   ],
   "metadata": {
    "collapsed": false,
    "pycharm": {
     "name": "#%% md\n"
    }
   }
  },
  {
   "cell_type": "code",
   "execution_count": null,
   "outputs": [],
   "source": [
    "# Log price and number of customer reviews of kindle books.\n",
    "plt.scatter(y=np.log(sales.sale_price), x=np.log(sales.total_reviews), alpha=0.2)\n",
    "plt.xlabel('Log number of reviews')\n",
    "plt.ylabel('Log of price')\n",
    "plt.title('Log price vs number of reviews on ebooks')\n",
    "plt.savefig('images/log_price_number_reviews.png')"
   ],
   "metadata": {
    "collapsed": false,
    "pycharm": {
     "name": "#%%\n"
    }
   }
  }
 ],
 "metadata": {
  "kernelspec": {
   "display_name": "Python 3",
   "language": "python",
   "name": "python3"
  },
  "language_info": {
   "codemirror_mode": {
    "name": "ipython",
    "version": 2
   },
   "file_extension": ".py",
   "mimetype": "text/x-python",
   "name": "python",
   "nbconvert_exporter": "python",
   "pygments_lexer": "ipython2",
   "version": "2.7.6"
  }
 },
 "nbformat": 4,
 "nbformat_minor": 0
}