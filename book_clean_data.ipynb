{
 "cells": [
  {
   "cell_type": "markdown",
   "source": [
    "## Cleaning the books sale and book rating data.\n",
    "\n",
    "This notebook outlines the cleaning process of multiple dataset involving book\n",
    "sales and rating so it can be used for EDA and analysis later on.\n",
    "\n",
    "The following notebook will clean and transform the 6 set of data below:\n",
    "1. [publishers](https://corgis-edu.github.io/corgis/csv/publishers/)\n",
    "    * Ebook sales data from Amazon for 27k titles in 2015\n",
    "2. [BX-Book-Rating](http://www2.informatik.uni-freiburg.de/~cziegler/BX/)\n",
    "    * Rating info on over 270k titles\n",
    "3. [BX-Books](http://www2.informatik.uni-freiburg.de/~cziegler/BX/)\n",
    "    * Books info on over 270k title above. Lacking isbn!\n",
    "4. [kindle](https://bigml.com/dashboard/dataset/5e7999ae59f5c368a40037e0)\n",
    "    * Books info on 45k kindle books. Including price\n",
    "5. [goodreads](https://www.kaggle.com/jealousleopard/goodreadsbooks#books.csv)\n",
    "    * Goodreads book dataset including rating and reviews\n",
    "6. [nyt_fiction](https://www.kaggle.com/cmenca/new-york-times-hardcover-fiction-best-sellers)\n",
    "\n",
    "After cleaning, publisher (sales) will contain all sale data while 2 BX dataset will be combined\n",
    "into one (rating) that contains characteristic and rating for books.\n",
    "\n",
    "#### Dependencies"
   ],
   "metadata": {
    "collapsed": false,
    "pycharm": {
     "name": "#%% md\n"
    }
   }
  },
  {
   "cell_type": "code",
   "execution_count": 1,
   "outputs": [],
   "source": [
    "import pandas as pd\n",
    "import matplotlib.pyplot as plt\n",
    "\n",
    "%matplotlib inline\n",
    "plt.style.use('seaborn-white')"
   ],
   "metadata": {
    "collapsed": false,
    "pycharm": {
     "name": "#%%\n"
    }
   }
  },
  {
   "cell_type": "markdown",
   "source": [
    "## Goal\n",
    "\n",
    "Clean and transform all the dataset above to easy to work with format.\n",
    "\n",
    "## Sales data\n",
    "\n",
    "Used for Genre, daily_average_units_sold and sale_price"
   ],
   "metadata": {
    "collapsed": false,
    "pycharm": {
     "name": "#%% md\n"
    }
   }
  },
  {
   "cell_type": "code",
   "execution_count": 2,
   "outputs": [
    {
     "name": "stdout",
     "output_type": "stream",
     "text": [
      "<class 'pandas.core.frame.DataFrame'>\n",
      "RangeIndex: 27027 entries, 0 to 27026\n",
      "Data columns (total 9 columns):\n",
      " #   Column                    Non-Null Count  Dtype   \n",
      "---  ------                    --------------  -----   \n",
      " 0   genre                     27027 non-null  object  \n",
      " 1   sold_by                   27027 non-null  object  \n",
      " 2   daily_average_units_sold  27027 non-null  int64   \n",
      " 3   publisher_name            27027 non-null  object  \n",
      " 4   publisher_type            27027 non-null  object  \n",
      " 5   average_rating            27027 non-null  float64 \n",
      " 6   sale_price                27027 non-null  float64 \n",
      " 7   total_reviews             27027 non-null  int64   \n",
      " 8   price_range               27027 non-null  category\n",
      "dtypes: category(1), float64(2), int64(2), object(4)\n",
      "memory usage: 1.7+ MB\n"
     ]
    }
   ],
   "source": [
    "# Publisher dataset \n",
    "data_path = 'D:\\\\PycharmProjects\\\\springboard\\\\data\\\\'\n",
    "sales = pd.read_csv(f'{data_path}publishers.csv')\n",
    "\n",
    "# Replace dot and space in columns name. Remove the word statistic in column name\n",
    "sales.columns = sales.columns.str.replace(r'[\\.\\s]', '_').str.replace('statistics_', '')\n",
    "\n",
    "# Remove multiple revenues and gross sales columns as these will create Multicollinearity \n",
    "# We only want units_sold in this case\n",
    "sales = sales.drop(sales.columns[2:6], axis=1)\n",
    "sales = sales.drop('sales_rank', axis=1)\n",
    "\n",
    "# Cut prices into range for further analysis\n",
    "sales['price_range'] = pd.cut(sales.sale_price, bins=[0, 2.99,9.99,19.99, max(sales.sale_price)], \n",
    "                           labels=['cheap','normal','high','extra'])\n",
    "\n",
    "# Save the cleaned data\n",
    "sales.to_csv(f'{data_path}book_sales.csv')\n",
    "\n",
    "# First look\n",
    "sales.info()"
   ],
   "metadata": {
    "collapsed": false,
    "pycharm": {
     "name": "#%%\n"
    }
   }
  },
  {
   "cell_type": "markdown",
   "source": [
    "## Books and reviews data\n",
    "\n",
    "Used to EDA for book rating "
   ],
   "metadata": {
    "collapsed": false,
    "pycharm": {
     "name": "#%% md\n"
    }
   }
  },
  {
   "cell_type": "code",
   "execution_count": 3,
   "outputs": [
    {
     "data": {
      "text/plain": "book_title             271379\nbook_author            271378\nyear_of_publication    271379\npublisher              271377\ndtype: int64"
     },
     "execution_count": 3,
     "metadata": {},
     "output_type": "execute_result"
    }
   ],
   "source": [
    "# Load books data set and clean up column names. Omitted last 3 columns since they are\n",
    "# links only\n",
    "books = pd.read_csv(f'{data_path}BX-Books.csv', sep=';', error_bad_lines=True,\n",
    "                    usecols=[0,1,2,3,4], encoding='ISO-8859-1', index_col='ISBN',\n",
    "                    low_memory=False)\n",
    "books.columns = books.columns.str.lower().str.replace('-','_')\n",
    "\n",
    "# Count\n",
    "books.count()"
   ],
   "metadata": {
    "collapsed": false,
    "pycharm": {
     "name": "#%%\n"
    }
   }
  },
  {
   "cell_type": "markdown",
   "source": [
    "There are multiples reviews of the same book (isbn) from different users. Thus, we will\n",
    "get the mean rating as the metric to merge into books reviews."
   ],
   "metadata": {
    "collapsed": false,
    "pycharm": {
     "name": "#%% md\n"
    }
   }
  },
  {
   "cell_type": "code",
   "execution_count": 4,
   "outputs": [
    {
     "name": "stdout",
     "output_type": "stream",
     "text": [
      "<class 'pandas.core.frame.DataFrame'>\n",
      "Index: 340556 entries,  0330299891 to Ô½crosoft\n",
      "Data columns (total 2 columns):\n",
      " #   Column        Non-Null Count   Dtype  \n",
      "---  ------        --------------   -----  \n",
      " 0   book_rating   340556 non-null  float64\n",
      " 1   total_rating  340556 non-null  int64  \n",
      "dtypes: float64(1), int64(1)\n",
      "memory usage: 7.8+ MB\n"
     ]
    }
   ],
   "source": [
    "# Load reviews data. We also lower case and snake_case column names\n",
    "reviews = pd.read_csv(f'{data_path}BX-Book-Ratings.csv', sep=';', error_bad_lines=True,\n",
    "                      encoding='ISO-8859-1', usecols=[1,2])\n",
    "reviews.columns = reviews.columns.str.lower().str.replace('-', '_')\n",
    "\n",
    "# Group by isbn and get the number of rating\n",
    "total_rating = reviews.groupby('isbn').count()\n",
    "\n",
    "# Group by isbn and get mean rating\n",
    "reviews = reviews.groupby('isbn').mean()\n",
    "reviews['total_rating'] = total_rating\n",
    "\n",
    "# print info on reviews\n",
    "reviews.info()"
   ],
   "metadata": {
    "collapsed": false,
    "pycharm": {
     "name": "#%%\n"
    }
   }
  },
  {
   "cell_type": "code",
   "execution_count": 5,
   "outputs": [
    {
     "name": "stdout",
     "output_type": "stream",
     "text": [
      "<class 'pandas.core.frame.DataFrame'>\n",
      "Index: 270167 entries, 0195153448 to 0767409752\n",
      "Data columns (total 6 columns):\n",
      " #   Column               Non-Null Count   Dtype  \n",
      "---  ------               --------------   -----  \n",
      " 0   book_title           270167 non-null  object \n",
      " 1   book_author          270167 non-null  object \n",
      " 2   year_of_publication  270167 non-null  object \n",
      " 3   publisher            270167 non-null  object \n",
      " 4   book_rating          270167 non-null  float64\n",
      " 5   total_rating         270167 non-null  float64\n",
      "dtypes: float64(2), object(4)\n",
      "memory usage: 14.4+ MB\n"
     ]
    }
   ],
   "source": [
    "# Merge books and reviews on isbn. Leave reviews without the isbn\n",
    "rating = pd.merge(books, reviews, how='left', left_index=True, right_index=True)\n",
    "rating = rating.dropna()\n",
    "\n",
    "# save for future use\n",
    "rating.to_csv(f'{data_path}book_rating.csv')\n",
    "\n",
    "# first look\n",
    "rating.info()\n",
    "rating.head()\n",
    "\n",
    "# Clear out unused data frames\n",
    "del books\n",
    "del reviews"
   ],
   "metadata": {
    "collapsed": false,
    "pycharm": {
     "name": "#%%\n"
    }
   }
  },
  {
   "cell_type": "markdown",
   "source": [
    "## Kindle books data\n",
    "\n",
    "Used for price prediction of kindle book format. "
   ],
   "metadata": {
    "collapsed": false
   }
  },
  {
   "cell_type": "code",
   "execution_count": 6,
   "outputs": [
    {
     "name": "stdout",
     "output_type": "stream",
     "text": [
      "<class 'pandas.core.frame.DataFrame'>\n",
      "RangeIndex: 49197 entries, 0 to 49196\n",
      "Data columns (total 15 columns):\n",
      " #   Column            Non-Null Count  Dtype  \n",
      "---  ------            --------------  -----  \n",
      " 0   title             49196 non-null  object \n",
      " 1   author            49187 non-null  object \n",
      " 2   price             48642 non-null  float64\n",
      " 3   save              49197 non-null  float64\n",
      " 4   pages             48987 non-null  float64\n",
      " 5   size              48155 non-null  float64\n",
      " 6   publisher         49197 non-null  object \n",
      " 7   language          49100 non-null  object \n",
      " 8   text_to_speech    47675 non-null  object \n",
      " 9   x_ray             47686 non-null  object \n",
      " 10  lending           47767 non-null  object \n",
      " 11  customer_reviews  47751 non-null  float64\n",
      " 12  stars             47752 non-null  float64\n",
      " 13  kindle_only       49197 non-null  bool   \n",
      " 14  title_length      49196 non-null  float64\n",
      "dtypes: bool(1), float64(7), object(7)\n",
      "memory usage: 5.3+ MB\n"
     ]
    }
   ],
   "source": [
    "kindle = pd.read_csv(f'{data_path}kindle.csv').drop('url', axis=1)\n",
    "\n",
    "# kindle only books columns\n",
    "kindle['kindle_only'] = kindle.save.isnull()\n",
    "\n",
    "# Transform NaN price save into 0 and Nan publisher to self\n",
    "kindle['save'] = kindle.save.fillna(0)\n",
    "kindle['publisher'] = kindle.publisher.fillna('Self Publishing')\n",
    "\n",
    "# Title length and drop description\n",
    "kindle['title_length'] = kindle.title.str.len()\n",
    "kindle = kindle.drop(['description'], axis=1)\n",
    "\n",
    "# Info\n",
    "kindle.info()\n",
    "\n",
    "# Save for later\n",
    "kindle.to_csv(f'{data_path}/book_kindle.csv')"
   ],
   "metadata": {
    "collapsed": false,
    "pycharm": {
     "name": "#%%\n"
    }
   }
  },
  {
   "cell_type": "markdown",
   "source": [
    "## Goodread books data\n",
    "\n",
    "Used for rating prediction\n",
    "\n",
    "There are some problems with a few lines in the dataset that needs correction since they use\n",
    "comma instead of dot-comma in the author name. However, there are less than 5 of these so manual \n",
    "fixing is efficient. "
   ],
   "metadata": {
    "collapsed": false,
    "pycharm": {
     "name": "#%% md\n"
    }
   }
  },
  {
   "cell_type": "code",
   "execution_count": 7,
   "outputs": [
    {
     "name": "stdout",
     "output_type": "stream",
     "text": [
      "                                                   title  \\\n",
      "8180   In Pursuit of the Proper Sinner (Inspector Lyn...   \n",
      "11098         Montaillou  village occitan de 1294 à 1324   \n",
      "\n",
      "                                               authors  average_rating  \\\n",
      "8180                                 Elizabeth  George            4.10   \n",
      "11098  Emmanuel Le Roy Ladurie/Emmanuel Le Roy-Ladurie            3.96   \n",
      "\n",
      "      language_code  num_pages  ratings_count  text_reviews_count  \\\n",
      "8180            eng        718          10608                 295   \n",
      "11098           fre        640             15                   2   \n",
      "\n",
      "      publication_date       publisher  title_length  \n",
      "8180               NaT    Bantam Books            55  \n",
      "11098              NaT  Folio histoire            42  \n",
      "<class 'pandas.core.frame.DataFrame'>\n",
      "Int64Index: 11125 entries, 0 to 11126\n",
      "Data columns (total 10 columns):\n",
      " #   Column              Non-Null Count  Dtype         \n",
      "---  ------              --------------  -----         \n",
      " 0   title               11125 non-null  object        \n",
      " 1   authors             11125 non-null  object        \n",
      " 2   average_rating      11125 non-null  float64       \n",
      " 3   language_code       11125 non-null  object        \n",
      " 4   num_pages           11125 non-null  int64         \n",
      " 5   ratings_count       11125 non-null  int64         \n",
      " 6   text_reviews_count  11125 non-null  int64         \n",
      " 7   publication_date    11125 non-null  datetime64[ns]\n",
      " 8   publisher           11125 non-null  object        \n",
      " 9   title_length        11125 non-null  int64         \n",
      "dtypes: datetime64[ns](1), float64(1), int64(4), object(4)\n",
      "memory usage: 956.1+ KB\n"
     ]
    }
   ],
   "source": [
    "# Load in the data\n",
    "goodread_books = pd.read_csv(f'{data_path}goodread_books.csv')\n",
    "\n",
    "# Remove bookID, isbn, isbn13, and publication_date\n",
    "goodread_books = goodread_books.drop(['bookID', 'isbn','isbn13'], axis=1)\n",
    "\n",
    "# remove space from column name\n",
    "goodread_books.columns = goodread_books.columns.str.strip()\n",
    "\n",
    "# Title length\n",
    "goodread_books['title_length'] = goodread_books.title.str.len()\n",
    "\n",
    "# Convert publishing date to datetime\n",
    "goodread_books['publication_date'] = pd.to_datetime(goodread_books.publication_date, errors='coerce')\n",
    "\n",
    "# This two book has a very bad publication date\n",
    "print(goodread_books[goodread_books.publication_date.isnull()])\n",
    "\n",
    "# Remove na \n",
    "goodread_books = goodread_books.dropna()\n",
    "\n",
    "# info\n",
    "goodread_books.info()\n",
    "\n",
    "# Save for later\n",
    "goodread_books.to_csv(f'{data_path}/book_goodread.csv')"
   ],
   "metadata": {
    "collapsed": false,
    "pycharm": {
     "name": "#%%\n"
    }
   }
  },
  {
   "cell_type": "markdown",
   "source": [
    "## New York Times fiction bestseller list\n",
    "\n",
    "Used for learning about New York Time best seller FICTIONS. \n",
    "\n",
    "A list of new york time best seller from 2008 to 2018. This require some minor cleaning.\n",
    "ID columns is omit. Over 60% of our data doesn't have the price  "
   ],
   "metadata": {
    "collapsed": false,
    "pycharm": {
     "name": "#%% md\n"
    }
   }
  },
  {
   "cell_type": "code",
   "execution_count": 8,
   "outputs": [
    {
     "name": "stdout",
     "output_type": "stream",
     "text": [
      "<class 'pandas.core.frame.DataFrame'>\n",
      "RangeIndex: 10195 entries, 0 to 10194\n",
      "Data columns (total 10 columns):\n",
      " #   Column            Non-Null Count  Dtype         \n",
      "---  ------            --------------  -----         \n",
      " 0   bestsellers_date  10195 non-null  datetime64[ns]\n",
      " 1   published_date    10195 non-null  datetime64[ns]\n",
      " 2   author            10195 non-null  object        \n",
      " 3   description       10195 non-null  object        \n",
      " 4   price             7162 non-null   object        \n",
      " 5   publisher         10195 non-null  object        \n",
      " 6   title             10195 non-null  object        \n",
      " 7   rank              10195 non-null  object        \n",
      " 8   rank_last_week    10195 non-null  object        \n",
      " 9   weeks_on_list     10195 non-null  object        \n",
      "dtypes: datetime64[ns](2), object(8)\n",
      "memory usage: 796.6+ KB\n"
     ]
    }
   ],
   "source": [
    "nyt_fiction = pd.read_json(f'{data_path}/nyt_fiction.json', lines=True)\n",
    "nyt_fiction.head()\n",
    "\n",
    "# Drop the first _id columns\n",
    "nyt_fiction = nyt_fiction.drop(['amazon_product_url','_id'], axis=1)\n",
    "\n",
    "# Normalize the dictionary in each date column and then convert to normal time\n",
    "for i in ['bestsellers_date', 'published_date']:\n",
    "    # Normalize\n",
    "    nyt_fiction[i] = pd.json_normalize(nyt_fiction[i])\n",
    "    # Convert to datetime\n",
    "    nyt_fiction[i] = pd.to_datetime(nyt_fiction[i], unit='ms')\n",
    "\n",
    "for i in ['price', 'rank', 'rank_last_week', 'weeks_on_list']:\n",
    "    # Normalize\n",
    "    nyt_fiction[i] = pd.json_normalize(nyt_fiction[i])\n",
    "\n",
    "nyt_fiction.info()\n",
    "\n",
    "# Save the data \n",
    "nyt_fiction.to_csv(f'{data_path}/book_nyt_fiction.csv')"
   ],
   "metadata": {
    "collapsed": false,
    "pycharm": {
     "name": "#%%\n"
    }
   }
  },
  {
   "cell_type": "code",
   "execution_count": 9,
   "outputs": [
    {
     "data": {
      "text/plain": "  bestsellers_date published_date             author  \\\n0       2008-05-24     2008-06-08      Dean R Koontz   \n1       2008-05-24     2008-06-08    Stephenie Meyer   \n2       2008-05-24     2008-06-08       Emily Giffin   \n3       2008-05-24     2008-06-08  Patricia Cornwell   \n4       2008-05-24     2008-06-08    Chuck Palahniuk   \n\n                                         description price      publisher  \\\n0  Odd Thomas, who can communicate with the dead,...    27         Bantam   \n1  Aliens have taken control of the minds and bod...   NaN  Little, Brown   \n2  A woman's happy marriage is shaken when she en...   NaN   St. Martin's   \n3  A Massachusetts state investigator and his tea...   NaN         Putnam   \n4  An aging porn queens aims to cap her career by...   NaN      Doubleday   \n\n                      title rank rank_last_week weeks_on_list  \n0                 ODD HOURS    1              0             1  \n1                  THE HOST    2              1             3  \n2  LOVE THE ONE YOU'RE WITH    3              2             2  \n3                 THE FRONT    4              0             1  \n4                     SNUFF    5              0             1  ",
      "text/html": "<div>\n<style scoped>\n    .dataframe tbody tr th:only-of-type {\n        vertical-align: middle;\n    }\n\n    .dataframe tbody tr th {\n        vertical-align: top;\n    }\n\n    .dataframe thead th {\n        text-align: right;\n    }\n</style>\n<table border=\"1\" class=\"dataframe\">\n  <thead>\n    <tr style=\"text-align: right;\">\n      <th></th>\n      <th>bestsellers_date</th>\n      <th>published_date</th>\n      <th>author</th>\n      <th>description</th>\n      <th>price</th>\n      <th>publisher</th>\n      <th>title</th>\n      <th>rank</th>\n      <th>rank_last_week</th>\n      <th>weeks_on_list</th>\n    </tr>\n  </thead>\n  <tbody>\n    <tr>\n      <th>0</th>\n      <td>2008-05-24</td>\n      <td>2008-06-08</td>\n      <td>Dean R Koontz</td>\n      <td>Odd Thomas, who can communicate with the dead,...</td>\n      <td>27</td>\n      <td>Bantam</td>\n      <td>ODD HOURS</td>\n      <td>1</td>\n      <td>0</td>\n      <td>1</td>\n    </tr>\n    <tr>\n      <th>1</th>\n      <td>2008-05-24</td>\n      <td>2008-06-08</td>\n      <td>Stephenie Meyer</td>\n      <td>Aliens have taken control of the minds and bod...</td>\n      <td>NaN</td>\n      <td>Little, Brown</td>\n      <td>THE HOST</td>\n      <td>2</td>\n      <td>1</td>\n      <td>3</td>\n    </tr>\n    <tr>\n      <th>2</th>\n      <td>2008-05-24</td>\n      <td>2008-06-08</td>\n      <td>Emily Giffin</td>\n      <td>A woman's happy marriage is shaken when she en...</td>\n      <td>NaN</td>\n      <td>St. Martin's</td>\n      <td>LOVE THE ONE YOU'RE WITH</td>\n      <td>3</td>\n      <td>2</td>\n      <td>2</td>\n    </tr>\n    <tr>\n      <th>3</th>\n      <td>2008-05-24</td>\n      <td>2008-06-08</td>\n      <td>Patricia Cornwell</td>\n      <td>A Massachusetts state investigator and his tea...</td>\n      <td>NaN</td>\n      <td>Putnam</td>\n      <td>THE FRONT</td>\n      <td>4</td>\n      <td>0</td>\n      <td>1</td>\n    </tr>\n    <tr>\n      <th>4</th>\n      <td>2008-05-24</td>\n      <td>2008-06-08</td>\n      <td>Chuck Palahniuk</td>\n      <td>An aging porn queens aims to cap her career by...</td>\n      <td>NaN</td>\n      <td>Doubleday</td>\n      <td>SNUFF</td>\n      <td>5</td>\n      <td>0</td>\n      <td>1</td>\n    </tr>\n  </tbody>\n</table>\n</div>"
     },
     "execution_count": 9,
     "metadata": {},
     "output_type": "execute_result"
    }
   ],
   "source": [
    "nyt_fiction.head()"
   ],
   "metadata": {
    "collapsed": false,
    "pycharm": {
     "name": "#%%\n"
    }
   }
  }
 ],
 "metadata": {
  "kernelspec": {
   "display_name": "Python 3",
   "language": "python",
   "name": "python3"
  },
  "language_info": {
   "codemirror_mode": {
    "name": "ipython",
    "version": 2
   },
   "file_extension": ".py",
   "mimetype": "text/x-python",
   "name": "python",
   "nbconvert_exporter": "python",
   "pygments_lexer": "ipython2",
   "version": "2.7.6"
  }
 },
 "nbformat": 4,
 "nbformat_minor": 0
}