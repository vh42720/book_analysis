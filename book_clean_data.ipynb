{
 "cells": [
  {
   "cell_type": "markdown",
   "source": [
    "## Cleaning the books sale and book rating data.\n",
    "\n",
    "This notebook outlines the cleaning process of the book sales data and the rating data\n",
    "so it can be used for EDA and analysis later on.\n",
    "\n",
    "The below process will be using 3 set of data:\n",
    "1. [publishers](https://corgis-edu.github.io/corgis/csv/publishers/)\n",
    "2. [BX-Book-Rating](http://www2.informatik.uni-freiburg.de/~cziegler/BX/)\n",
    "3. [BX-Books](http://www2.informatik.uni-freiburg.de/~cziegler/BX/)\n",
    "\n",
    "After cleaning, publisher (sales) will contain all sale data while 2 BX dataset will be combined\n",
    "into one (rating) that contains characteristic and rating for books.\n",
    "\n",
    "#### Dependencies"
   ],
   "metadata": {
    "collapsed": false,
    "pycharm": {
     "name": "#%% md\n"
    }
   }
  },
  {
   "cell_type": "code",
   "execution_count": 1,
   "outputs": [],
   "source": [
    "import numpy as np\n",
    "import pandas as pd\n",
    "import matplotlib.pyplot as plt\n",
    "import seaborn as sns\n",
    "\n",
    "%matplotlib inline\n",
    "plt.style.use('seaborn-white')"
   ],
   "metadata": {
    "collapsed": false,
    "pycharm": {
     "name": "#%%\n",
     "is_executing": false
    }
   }
  },
  {
   "cell_type": "markdown",
   "source": [
    "#### Goal\n",
    "\n",
    "The sales data should include snake case columns with multiple data leaking columns \n",
    "such as data revenue and sale rank. Unit sold will be the only response.\n",
    "\n",
    "#### Sales data"
   ],
   "metadata": {
    "collapsed": false,
    "pycharm": {
     "name": "#%% md\n"
    }
   }
  },
  {
   "cell_type": "code",
   "execution_count": 2,
   "outputs": [
    {
     "name": "stdout",
     "text": [
      "<class 'pandas.core.frame.DataFrame'>\n",
      "RangeIndex: 27027 entries, 0 to 27026\n",
      "Data columns (total 8 columns):\n",
      " #   Column                    Non-Null Count  Dtype  \n",
      "---  ------                    --------------  -----  \n",
      " 0   genre                     27027 non-null  object \n",
      " 1   sold_by                   27027 non-null  object \n",
      " 2   daily_average_units_sold  27027 non-null  int64  \n",
      " 3   publisher_name            27027 non-null  object \n",
      " 4   publisher_type            27027 non-null  object \n",
      " 5   average_rating            27027 non-null  float64\n",
      " 6   sale_price                27027 non-null  float64\n",
      " 7   total_reviews             27027 non-null  int64  \n",
      "dtypes: float64(2), int64(2), object(4)\n",
      "memory usage: 1.6+ MB\n",
      "None\n"
     ],
     "output_type": "stream"
    },
    {
     "data": {
      "text/plain": "           genre                         sold_by  daily_average_units_sold  \\\n0  genre fiction        HarperCollins Publishers                      7000   \n1  genre fiction        HarperCollins Publishers                      6250   \n2  genre fiction  Amazon Digital Services,  Inc.                      5500   \n3        fiction             Hachette Book Group                      5500   \n4  genre fiction         Penguin Group (USA) LLC                      4750   \n\n                publisher_name publisher_type  average_rating  sale_price  \\\n0        Katherine Tegen Books       big five            4.57        4.88   \n1        HarperCollins e-books       big five            4.47        1.99   \n2  (Small or Medium Publisher)   small/medium            4.16        8.69   \n3    Little, Brown and Company       big five            3.84        7.50   \n4            Dutton Children's       big five            4.75        7.99   \n\n   total_reviews  \n0           9604  \n1            450  \n2             30  \n3           3747  \n4           9174  ",
      "text/html": "<div>\n<style scoped>\n    .dataframe tbody tr th:only-of-type {\n        vertical-align: middle;\n    }\n\n    .dataframe tbody tr th {\n        vertical-align: top;\n    }\n\n    .dataframe thead th {\n        text-align: right;\n    }\n</style>\n<table border=\"1\" class=\"dataframe\">\n  <thead>\n    <tr style=\"text-align: right;\">\n      <th></th>\n      <th>genre</th>\n      <th>sold_by</th>\n      <th>daily_average_units_sold</th>\n      <th>publisher_name</th>\n      <th>publisher_type</th>\n      <th>average_rating</th>\n      <th>sale_price</th>\n      <th>total_reviews</th>\n    </tr>\n  </thead>\n  <tbody>\n    <tr>\n      <th>0</th>\n      <td>genre fiction</td>\n      <td>HarperCollins Publishers</td>\n      <td>7000</td>\n      <td>Katherine Tegen Books</td>\n      <td>big five</td>\n      <td>4.57</td>\n      <td>4.88</td>\n      <td>9604</td>\n    </tr>\n    <tr>\n      <th>1</th>\n      <td>genre fiction</td>\n      <td>HarperCollins Publishers</td>\n      <td>6250</td>\n      <td>HarperCollins e-books</td>\n      <td>big five</td>\n      <td>4.47</td>\n      <td>1.99</td>\n      <td>450</td>\n    </tr>\n    <tr>\n      <th>2</th>\n      <td>genre fiction</td>\n      <td>Amazon Digital Services,  Inc.</td>\n      <td>5500</td>\n      <td>(Small or Medium Publisher)</td>\n      <td>small/medium</td>\n      <td>4.16</td>\n      <td>8.69</td>\n      <td>30</td>\n    </tr>\n    <tr>\n      <th>3</th>\n      <td>fiction</td>\n      <td>Hachette Book Group</td>\n      <td>5500</td>\n      <td>Little, Brown and Company</td>\n      <td>big five</td>\n      <td>3.84</td>\n      <td>7.50</td>\n      <td>3747</td>\n    </tr>\n    <tr>\n      <th>4</th>\n      <td>genre fiction</td>\n      <td>Penguin Group (USA) LLC</td>\n      <td>4750</td>\n      <td>Dutton Children's</td>\n      <td>big five</td>\n      <td>4.75</td>\n      <td>7.99</td>\n      <td>9174</td>\n    </tr>\n  </tbody>\n</table>\n</div>"
     },
     "metadata": {},
     "output_type": "execute_result",
     "execution_count": 2
    }
   ],
   "source": [
    "# Publisher dataset \n",
    "data_path = 'D:\\\\PycharmProjects\\\\springboard\\\\data\\\\'\n",
    "sales = pd.read_csv(f'{data_path}publishers.csv')\n",
    "\n",
    "# Replace dot and space in columns name. Remove the word statistic in column name\n",
    "sales.columns = sales.columns.str.replace(r'[\\.\\s]', '_').str.replace('statistics_', '')\n",
    "\n",
    "# Remove multiple revenues and gross sales columns as these will create Multicollinearity \n",
    "# We only want units_sold in this case\n",
    "sales = sales.drop(sales.columns[2:6], axis=1)\n",
    "sales = sales.drop('sales_rank', axis=1)\n",
    "\n",
    "# Save the cleaned data\n",
    "sales.to_csv(f'{data_path}book_sales.csv')\n",
    "\n",
    "# First look\n",
    "print(sales.info())\n",
    "sales.head()"
   ],
   "metadata": {
    "collapsed": false,
    "pycharm": {
     "name": "#%%\n",
     "is_executing": false
    }
   }
  },
  {
   "cell_type": "markdown",
   "source": [
    "#### Books and reviews data"
   ],
   "metadata": {
    "collapsed": false,
    "pycharm": {
     "name": "#%% md\n"
    }
   }
  },
  {
   "cell_type": "code",
   "execution_count": 3,
   "outputs": [
    {
     "name": "stdout",
     "text": [
      "book_title             271379\n",
      "book_author            271378\n",
      "year_of_publication    271379\n",
      "publisher              271377\n",
      "dtype: int64\n"
     ],
     "output_type": "stream"
    }
   ],
   "source": [
    "# Load books data set and clean up column names. Omitted last 3 columns since they are\n",
    "# links only\n",
    "books = pd.read_csv(f'{data_path}BX-Books.csv', sep=';', error_bad_lines=True,\n",
    "                    usecols=[0,1,2,3,4], encoding='ISO-8859-1', index_col='ISBN',\n",
    "                    low_memory=False)\n",
    "books.columns = books.columns.str.lower().str.replace('-','_')\n",
    "\n",
    "# Count\n",
    "print(books.count())"
   ],
   "metadata": {
    "collapsed": false,
    "pycharm": {
     "name": "#%%\n",
     "is_executing": false
    }
   }
  },
  {
   "cell_type": "markdown",
   "source": [
    "There are multiples reviews of the same book (isbn) from different users. Thus, we will\n",
    "get the mean rating as the metric to merge into books reviews."
   ],
   "metadata": {
    "collapsed": false,
    "pycharm": {
     "name": "#%% md\n"
    }
   }
  },
  {
   "cell_type": "code",
   "execution_count": 4,
   "outputs": [
    {
     "name": "stdout",
     "text": [
      "book_rating    340556\n",
      "dtype: int64\n"
     ],
     "output_type": "stream"
    }
   ],
   "source": [
    "# Load reviews data. We also lower case and snake_case column names\n",
    "reviews = pd.read_csv(f'{data_path}BX-Book-Ratings.csv', sep=';', error_bad_lines=True,\n",
    "                      encoding='ISO-8859-1', usecols=[1,2])\n",
    "reviews.columns = reviews.columns.str.lower().str.replace('-', '_')\n",
    "\n",
    "# Group by isbn and get mean rating\n",
    "reviews = reviews.groupby('isbn').mean()\n",
    "\n",
    "# print info on reviews\n",
    "print(reviews.count())"
   ],
   "metadata": {
    "collapsed": false,
    "pycharm": {
     "name": "#%%\n",
     "is_executing": false
    }
   }
  },
  {
   "cell_type": "code",
   "execution_count": 5,
   "outputs": [
    {
     "name": "stdout",
     "text": [
      "<class 'pandas.core.frame.DataFrame'>\n",
      "Index: 271379 entries, 0195153448 to 0767409752\n",
      "Data columns (total 5 columns):\n",
      " #   Column               Non-Null Count   Dtype  \n",
      "---  ------               --------------   -----  \n",
      " 0   book_title           271379 non-null  object \n",
      " 1   book_author          271378 non-null  object \n",
      " 2   year_of_publication  271379 non-null  object \n",
      " 3   publisher            271377 non-null  object \n",
      " 4   book_rating          270170 non-null  float64\n",
      "dtypes: float64(1), object(4)\n",
      "memory usage: 22.4+ MB\n"
     ],
     "output_type": "stream"
    },
    {
     "data": {
      "text/plain": "                                                   book_title  \\\nISBN                                                            \n0195153448                                Classical Mythology   \n0002005018                                       Clara Callan   \n0060973129                               Decision in Normandy   \n0374157065  Flu: The Story of the Great Influenza Pandemic...   \n0393045218                             The Mummies of Urumchi   \n\n                     book_author year_of_publication  \\\nISBN                                                   \n0195153448    Mark P. O. Morford                2002   \n0002005018  Richard Bruce Wright                2001   \n0060973129          Carlo D'Este                1991   \n0374157065      Gina Bari Kolata                1999   \n0393045218       E. J. W. Barber                1999   \n\n                             publisher  book_rating  \nISBN                                                 \n0195153448     Oxford University Press     0.000000  \n0002005018       HarperFlamingo Canada     4.928571  \n0060973129             HarperPerennial     5.000000  \n0374157065        Farrar Straus Giroux     4.272727  \n0393045218  W. W. Norton &amp; Company     0.000000  ",
      "text/html": "<div>\n<style scoped>\n    .dataframe tbody tr th:only-of-type {\n        vertical-align: middle;\n    }\n\n    .dataframe tbody tr th {\n        vertical-align: top;\n    }\n\n    .dataframe thead th {\n        text-align: right;\n    }\n</style>\n<table border=\"1\" class=\"dataframe\">\n  <thead>\n    <tr style=\"text-align: right;\">\n      <th></th>\n      <th>book_title</th>\n      <th>book_author</th>\n      <th>year_of_publication</th>\n      <th>publisher</th>\n      <th>book_rating</th>\n    </tr>\n    <tr>\n      <th>ISBN</th>\n      <th></th>\n      <th></th>\n      <th></th>\n      <th></th>\n      <th></th>\n    </tr>\n  </thead>\n  <tbody>\n    <tr>\n      <th>0195153448</th>\n      <td>Classical Mythology</td>\n      <td>Mark P. O. Morford</td>\n      <td>2002</td>\n      <td>Oxford University Press</td>\n      <td>0.000000</td>\n    </tr>\n    <tr>\n      <th>0002005018</th>\n      <td>Clara Callan</td>\n      <td>Richard Bruce Wright</td>\n      <td>2001</td>\n      <td>HarperFlamingo Canada</td>\n      <td>4.928571</td>\n    </tr>\n    <tr>\n      <th>0060973129</th>\n      <td>Decision in Normandy</td>\n      <td>Carlo D'Este</td>\n      <td>1991</td>\n      <td>HarperPerennial</td>\n      <td>5.000000</td>\n    </tr>\n    <tr>\n      <th>0374157065</th>\n      <td>Flu: The Story of the Great Influenza Pandemic...</td>\n      <td>Gina Bari Kolata</td>\n      <td>1999</td>\n      <td>Farrar Straus Giroux</td>\n      <td>4.272727</td>\n    </tr>\n    <tr>\n      <th>0393045218</th>\n      <td>The Mummies of Urumchi</td>\n      <td>E. J. W. Barber</td>\n      <td>1999</td>\n      <td>W. W. Norton &amp;amp; Company</td>\n      <td>0.000000</td>\n    </tr>\n  </tbody>\n</table>\n</div>"
     },
     "metadata": {},
     "output_type": "execute_result",
     "execution_count": 5
    }
   ],
   "source": [
    "# Merge books and reviews on isbn. Leave reviews without the isbn\n",
    "rating = pd.merge(books, reviews, how='left', left_index=True, right_index=True)\n",
    "\n",
    "# save for future use\n",
    "rating.to_csv(f'{data_path}book_rating.csv')\n",
    "\n",
    "# first look\n",
    "rating.info()\n",
    "rating.head()"
   ],
   "metadata": {
    "collapsed": false,
    "pycharm": {
     "name": "#%%\n",
     "is_executing": false
    }
   }
  },
  {
   "cell_type": "code",
   "execution_count": 6,
   "outputs": [],
   "source": [
    "# Clear out unused data frames\n",
    "del books\n",
    "del reviews\n",
    "\n",
    "\n",
    "\n",
    "\n"
   ],
   "metadata": {
    "collapsed": false,
    "pycharm": {
     "name": "#%%\n",
     "is_executing": false
    }
   }
  }
 ],
 "metadata": {
  "kernelspec": {
   "display_name": "Python 3",
   "language": "python",
   "name": "python3"
  },
  "language_info": {
   "codemirror_mode": {
    "name": "ipython",
    "version": 2
   },
   "file_extension": ".py",
   "mimetype": "text/x-python",
   "name": "python",
   "nbconvert_exporter": "python",
   "pygments_lexer": "ipython2",
   "version": "2.7.6"
  },
  "pycharm": {
   "stem_cell": {
    "cell_type": "raw",
    "source": [],
    "metadata": {
     "collapsed": false
    }
   }
  }
 },
 "nbformat": 4,
 "nbformat_minor": 0
}
