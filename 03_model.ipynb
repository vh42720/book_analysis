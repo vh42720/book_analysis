{
 "cells": [
  {
   "cell_type": "markdown",
   "metadata": {
    "collapsed": true,
    "pycharm": {
     "name": "#%% md\n"
    }
   },
   "source": [
    "## 03 - Models\n",
    "\n",
    "The following notebook will build the models to predict book sales (units sold).\n",
    "Two approaches are used - linear regression variants and random forest. Linear\n",
    "regression gives a some concrete number on how each feature effecting the daily\n",
    "units sold while random forest will provide a better fitted model. On the end,\n",
    "we want to find the best indicators of a popular books.\n",
    "\n",
    "Pipelines:\n",
    "1. features cleaning and engineering\n",
    "2. GridsearchCV ridge and lasso regression => refit better algorithm and interpretation\n",
    "3. GridsearchCV boosting and random forest => refit better algorithm and interpretation"
   ]
  },
  {
   "cell_type": "code",
   "execution_count": 1,
   "outputs": [],
   "source": [
    "import numpy as np\n",
    "import pandas as pd\n",
    "\n",
    "from tqdm import tqdm\n",
    "\n",
    "from sklearn.linear_model import Ridge, Lasso\n",
    "from sklearn.metrics import mean_squared_error\n",
    "from sklearn.model_selection import KFold, train_test_split\n",
    "from sklearn.feature_extraction import FeatureHasher\n",
    "from sklearn.preprocessing import StandardScaler\n",
    "from sklearn.model_selection import GridSearchCV\n",
    "from sklearn.ensemble import RandomForestRegressor, GradientBoostingRegressor\n",
    "\n",
    "import matplotlib.pyplot as plt\n",
    "import seaborn as sns\n",
    "from book_analysis.utils.visuals import *\n",
    "# %matplotlib inline\n",
    "# plt.style.use('seaborn-white')"
   ],
   "metadata": {
    "collapsed": false,
    "pycharm": {
     "name": "#%% \n"
    }
   }
  },
  {
   "cell_type": "code",
   "execution_count": 2,
   "outputs": [
    {
     "name": "stdout",
     "output_type": "stream",
     "text": [
      "<class 'pandas.core.frame.DataFrame'>\n",
      "Int64Index: 27027 entries, 0 to 27026\n",
      "Data columns (total 8 columns):\n",
      " #   Column                    Non-Null Count  Dtype  \n",
      "---  ------                    --------------  -----  \n",
      " 0   genre                     27027 non-null  object \n",
      " 1   sold_by                   27027 non-null  object \n",
      " 2   daily_average_units_sold  27027 non-null  int64  \n",
      " 3   publisher_name            27027 non-null  object \n",
      " 4   publisher_type            27027 non-null  object \n",
      " 5   average_rating            27027 non-null  float64\n",
      " 6   sale_price                27027 non-null  float64\n",
      " 7   total_reviews             27027 non-null  int64  \n",
      "dtypes: float64(2), int64(2), object(4)\n",
      "memory usage: 1.9+ MB\n"
     ]
    }
   ],
   "source": [
    "# load data\n",
    "data_path = 'D:\\\\PycharmProjects\\\\springboard\\\\data'\n",
    "df = pd.read_csv(f'{data_path}\\\\book_sales.csv', index_col=[0])\n",
    "\n",
    "# original datsets\n",
    "df.info()"
   ],
   "metadata": {
    "collapsed": false,
    "pycharm": {
     "name": "#%%\n"
    }
   }
  },
  {
   "cell_type": "markdown",
   "source": [
    "## 1 - Features cleaning and engineering\n",
    "\n",
    "Steps are as followed:\n",
    "\n",
    "1. Encode genre, sold_by, publisher_type using dummies\n",
    "One level from each categorical is removed to prevent collinearity\n",
    "2. Log transform sale price and units sold to normalize the long tail\n",
    "3. publisher name will be transformed using hashing trick. The output feature\n",
    "space chosen is very small at 309 - the same number of unique publisher name.\n",
    "There will be some collision. However, the small number of features reduces training time significantly.\n"
   ],
   "metadata": {
    "collapsed": false,
    "pycharm": {
     "name": "#%% md\n"
    }
   }
  },
  {
   "cell_type": "code",
   "execution_count": 3,
   "outputs": [],
   "source": [
    "# transform genre, sold_by and publisher_type into dummies\n",
    "# dropping the first level from each variable\n",
    "for col in ['genre', 'sold_by', 'publisher_type']:\n",
    "    df = pd.get_dummies(df,\n",
    "                        columns=[col],\n",
    "                        prefix=col,\n",
    "                        drop_first=True)"
   ],
   "metadata": {
    "collapsed": false,
    "pycharm": {
     "name": "#%%\n"
    }
   }
  },
  {
   "cell_type": "code",
   "execution_count": 4,
   "outputs": [
    {
     "data": {
      "text/plain": "   daily_average_units_sold  average_rating  sale_price  total_reviews  \\\n0                      7000            4.57        4.88           9604   \n1                      6250            4.47        1.99            450   \n2                      5500            4.16        8.69             30   \n3                      5500            3.84        7.50           3747   \n4                      4750            4.75        7.99           9174   \n\n   genre_comics  genre_fiction  genre_foreign language  genre_genre fiction  \\\n0             0              0                       0                    1   \n1             0              0                       0                    1   \n2             0              0                       0                    1   \n3             0              1                       0                    0   \n4             0              0                       0                    1   \n\n   genre_nonfiction  sold_by_Cengage Learning  ...  299  300  301  302  303  \\\n0                 0                         0  ...  0.0  0.0  2.0  0.0  0.0   \n1                 0                         0  ...  0.0  0.0  3.0  0.0  0.0   \n2                 0                         0  ...  0.0  0.0  1.0  0.0  0.0   \n3                 0                         0  ...  0.0  0.0  2.0  0.0 -1.0   \n4                 0                         0  ...  0.0  0.0  1.0  0.0  0.0   \n\n   304  305  306  307  308  \n0  0.0  0.0  0.0  0.0  0.0  \n1  0.0  0.0  0.0  0.0  0.0  \n2  0.0  0.0  0.0  0.0  0.0  \n3  0.0  0.0  0.0  0.0  0.0  \n4  0.0  0.0  0.0  0.0  0.0  \n\n[5 rows x 332 columns]",
      "text/html": "<div>\n<style scoped>\n    .dataframe tbody tr th:only-of-type {\n        vertical-align: middle;\n    }\n\n    .dataframe tbody tr th {\n        vertical-align: top;\n    }\n\n    .dataframe thead th {\n        text-align: right;\n    }\n</style>\n<table border=\"1\" class=\"dataframe\">\n  <thead>\n    <tr style=\"text-align: right;\">\n      <th></th>\n      <th>daily_average_units_sold</th>\n      <th>average_rating</th>\n      <th>sale_price</th>\n      <th>total_reviews</th>\n      <th>genre_comics</th>\n      <th>genre_fiction</th>\n      <th>genre_foreign language</th>\n      <th>genre_genre fiction</th>\n      <th>genre_nonfiction</th>\n      <th>sold_by_Cengage Learning</th>\n      <th>...</th>\n      <th>299</th>\n      <th>300</th>\n      <th>301</th>\n      <th>302</th>\n      <th>303</th>\n      <th>304</th>\n      <th>305</th>\n      <th>306</th>\n      <th>307</th>\n      <th>308</th>\n    </tr>\n  </thead>\n  <tbody>\n    <tr>\n      <th>0</th>\n      <td>7000</td>\n      <td>4.57</td>\n      <td>4.88</td>\n      <td>9604</td>\n      <td>0</td>\n      <td>0</td>\n      <td>0</td>\n      <td>1</td>\n      <td>0</td>\n      <td>0</td>\n      <td>...</td>\n      <td>0.0</td>\n      <td>0.0</td>\n      <td>2.0</td>\n      <td>0.0</td>\n      <td>0.0</td>\n      <td>0.0</td>\n      <td>0.0</td>\n      <td>0.0</td>\n      <td>0.0</td>\n      <td>0.0</td>\n    </tr>\n    <tr>\n      <th>1</th>\n      <td>6250</td>\n      <td>4.47</td>\n      <td>1.99</td>\n      <td>450</td>\n      <td>0</td>\n      <td>0</td>\n      <td>0</td>\n      <td>1</td>\n      <td>0</td>\n      <td>0</td>\n      <td>...</td>\n      <td>0.0</td>\n      <td>0.0</td>\n      <td>3.0</td>\n      <td>0.0</td>\n      <td>0.0</td>\n      <td>0.0</td>\n      <td>0.0</td>\n      <td>0.0</td>\n      <td>0.0</td>\n      <td>0.0</td>\n    </tr>\n    <tr>\n      <th>2</th>\n      <td>5500</td>\n      <td>4.16</td>\n      <td>8.69</td>\n      <td>30</td>\n      <td>0</td>\n      <td>0</td>\n      <td>0</td>\n      <td>1</td>\n      <td>0</td>\n      <td>0</td>\n      <td>...</td>\n      <td>0.0</td>\n      <td>0.0</td>\n      <td>1.0</td>\n      <td>0.0</td>\n      <td>0.0</td>\n      <td>0.0</td>\n      <td>0.0</td>\n      <td>0.0</td>\n      <td>0.0</td>\n      <td>0.0</td>\n    </tr>\n    <tr>\n      <th>3</th>\n      <td>5500</td>\n      <td>3.84</td>\n      <td>7.50</td>\n      <td>3747</td>\n      <td>0</td>\n      <td>1</td>\n      <td>0</td>\n      <td>0</td>\n      <td>0</td>\n      <td>0</td>\n      <td>...</td>\n      <td>0.0</td>\n      <td>0.0</td>\n      <td>2.0</td>\n      <td>0.0</td>\n      <td>-1.0</td>\n      <td>0.0</td>\n      <td>0.0</td>\n      <td>0.0</td>\n      <td>0.0</td>\n      <td>0.0</td>\n    </tr>\n    <tr>\n      <th>4</th>\n      <td>4750</td>\n      <td>4.75</td>\n      <td>7.99</td>\n      <td>9174</td>\n      <td>0</td>\n      <td>0</td>\n      <td>0</td>\n      <td>1</td>\n      <td>0</td>\n      <td>0</td>\n      <td>...</td>\n      <td>0.0</td>\n      <td>0.0</td>\n      <td>1.0</td>\n      <td>0.0</td>\n      <td>0.0</td>\n      <td>0.0</td>\n      <td>0.0</td>\n      <td>0.0</td>\n      <td>0.0</td>\n      <td>0.0</td>\n    </tr>\n  </tbody>\n</table>\n<p>5 rows × 332 columns</p>\n</div>"
     },
     "execution_count": 4,
     "metadata": {},
     "output_type": "execute_result"
    }
   ],
   "source": [
    "# set feature hashing parameters\n",
    "fh = FeatureHasher(n_features=309, input_type='string')\n",
    "\n",
    "# get hashed features array\n",
    "hashed_features = fh.fit_transform(df['publisher_name']).toarray()\n",
    "\n",
    "# added hashed_features into df\n",
    "df = pd.concat([df, pd.DataFrame(hashed_features)], axis=1)\n",
    "\n",
    "# drop publisher_name columns\n",
    "df = df.drop('publisher_name', axis=1)\n",
    "df.head()"
   ],
   "metadata": {
    "collapsed": false,
    "pycharm": {
     "name": "#%%\n"
    }
   }
  },
  {
   "cell_type": "markdown",
   "source": [
    "Next, we proceed to split the data into train and test sets. Values are also\n",
    "scaled for ridge/lasso regression. Daily units sold is log transformed because\n",
    "of the very long tail."
   ],
   "metadata": {
    "collapsed": false,
    "pycharm": {
     "name": "#%% md\n"
    }
   }
  },
  {
   "cell_type": "code",
   "execution_count": 5,
   "outputs": [],
   "source": [
    "# get X and y\n",
    "X = df.drop(['daily_average_units_sold'], axis=1)\n",
    "y = df.daily_average_units_sold\n",
    "\n",
    "# log transform the sale price\n",
    "X['sale_price'] = np.log(X['sale_price'])\n",
    "\n",
    "# log transform y\n",
    "y = np.log(y)\n",
    "\n",
    "# split train and test data\n",
    "X_train, X_test, y_train, y_test = train_test_split(X, y, test_size=0.2, random_state=41)\n",
    "\n",
    "# scale X for Ridge/Lasso regression\n",
    "scaler = StandardScaler()\n",
    "X_scaled = scaler.fit_transform(X)\n",
    "X_train_scaled = scaler.fit_transform(X_train)\n",
    "X_test_scaled = scaler.transform(X_test)\n",
    "\n",
    "# set up k fold\n",
    "kf = KFold(n_splits=5, shuffle=True, random_state=41)"
   ],
   "metadata": {
    "collapsed": false,
    "pycharm": {
     "name": "#%%\n"
    }
   }
  },
  {
   "cell_type": "markdown",
   "source": [
    "# 2 - Ridge and Lasso regression\n",
    "\n",
    "Lets compare the two linear methods: Ridge and Lasso. Setting up model selection\n",
    "using GridsearchCV for best alpha. Alpha represents the regularization parameter\n",
    "over normal OLS model.\n",
    "\n",
    "Note: the refit=True in GridsearchCV refit the model on the whole data each time. Thus,\n",
    "there is no need to refit the whole model again. Alpha range is limited to\n",
    "50 to speed up the training."
   ],
   "metadata": {
    "collapsed": false,
    "pycharm": {
     "name": "#%% md\n"
    }
   }
  },
  {
   "cell_type": "code",
   "execution_count": 6,
   "outputs": [
    {
     "name": "stderr",
     "output_type": "stream",
     "text": [
      "100%|██████████| 2/2 [00:14<00:00,  7.33s/it]\n"
     ]
    },
    {
     "name": "stdout",
     "output_type": "stream",
     "text": [
      "Model: ridge\n",
      "Train RMSE: 1.05\n",
      "Test RMSE: 1.12\n",
      "Best params: {'alpha': 23.57433181728695}\n",
      "\n",
      "Model: lasso\n",
      "Train RMSE: 1.05\n",
      "Test RMSE: 1.12\n",
      "Best params: {'alpha': 0.005}\n",
      "\n"
     ]
    }
   ],
   "source": [
    "# Set up alphas range from small to very large\n",
    "alphas = 10**np.linspace(10,-2,50)*0.5\n",
    "\n",
    "# dictionary mapping model and hyper-parameter\n",
    "models_and_parameters = {'ridge': (Ridge(), {'alpha': alphas}),\n",
    "                         'lasso': (Lasso(max_iter=10000), {'alpha': alphas})}\n",
    "\n",
    "# collect average score of 5 outer folds\n",
    "rmse_dict = dict()\n",
    "\n",
    "# find the best model with lowest mse\n",
    "for name, (model, params) in tqdm(models_and_parameters.items()):\n",
    "    # searches for the best hyper-parameter using inner folds\n",
    "    grid = GridSearchCV(estimator=model,\n",
    "                        param_grid=params,\n",
    "                        cv=3,\n",
    "                        scoring='neg_root_mean_squared_error',\n",
    "                        n_jobs=-1)\n",
    "    grid_result = grid.fit(X_train_scaled, y_train)\n",
    "\n",
    "    # Test set error\n",
    "    y_pred = grid.predict(X_test_scaled)\n",
    "    test_rmse = np.round(mean_squared_error(y_test, y_pred), 2)\n",
    "\n",
    "    # adding the test rmse into the dictionary for comparison\n",
    "    rmse_dict[name] = test_rmse\n",
    "\n",
    "    # Print error summary \n",
    "    error_summary = f'Model: {name}' \\\n",
    "                    f'\\nTrain RMSE: {np.round(-1 * grid_result.best_score_, 2)}' \\\n",
    "                    f'\\nTest RMSE: {test_rmse}' \\\n",
    "                    f'\\nBest params: {grid_result.best_params_}'\n",
    "    print(error_summary)\n",
    "    print()"
   ],
   "metadata": {
    "collapsed": false,
    "pycharm": {
     "name": "#%%\n"
    }
   }
  },
  {
   "cell_type": "markdown",
   "source": [
    "## 2.1 - Lasso Refit\n",
    "\n",
    "Both ridge and lasso gives the same test RMSE. Thus, choosing either one is acceptable.\n",
    "Lets proceed using Lasso by refitting the whole dataset and observe the coefficients.\n",
    "All the hashed features space is ignored from interpretation.\n",
    "\n",
    "Insights:\n",
    "1. Price has a negative relationship with sales. On average, a 100% increase\n",
    "in ebook price decrease sales by 15.57%\n",
    "2. Increasing rating by 1 star only generate 6.76% more sales.\n",
    "3. On the other hand, 1 more review can be as impactful as increasing sales by\n",
    "34.36%.\n",
    "4. Genre:\n",
    "    * genre fiction books generate 52.71% more sales on average than children books\n",
    "    * fiction books generate 19.52% more sales on average than children books\n",
    "    * non fiction books generate 12.52% more sales on average than children books\n",
    "    * all others are either too small or has negative impact on sales\n",
    "5. Books sell by Random House generates the least sales\n",
    "6. With the baseline of publisher type is amazon, we have:\n",
    "    * books from big five publishers generate 3.11% less sales than amazon published books\n",
    "    * books from small/medium publishers generate 5.85% less sales than amazon published books"
   ],
   "metadata": {
    "collapsed": false,
    "pycharm": {
     "name": "#%% md\n",
     "is_executing": false
    }
   }
  },
  {
   "cell_type": "code",
   "source": [
    "# Fit ridge regression with RidgeCV alphas\n",
    "lasso = Lasso(alpha=0.005).fit(X_scaled,y)\n",
    "\n",
    "# None of the coefficients are reduced to 0 but very to closed to it.\n",
    "pd.Series(lasso.coef_, index=X.columns)[:25]"
   ],
   "metadata": {
    "collapsed": false,
    "pycharm": {
     "name": "#%% \n"
    }
   },
   "execution_count": 7,
   "outputs": [
    {
     "data": {
      "text/plain": "average_rating                                  0.067603\nsale_price                                     -0.155722\ntotal_reviews                                   0.343645\ngenre_comics                                    0.009161\ngenre_fiction                                   0.195206\ngenre_foreign language                         -0.027198\ngenre_genre fiction                             0.527134\ngenre_nonfiction                                0.125233\nsold_by_Cengage Learning                       -0.003759\nsold_by_DC Comics                               0.018585\nsold_by_Hachette Book Group                     0.000000\nsold_by_HarperCollins                           0.004168\nsold_by_Idea & Design Works                     0.003617\nsold_by_Macmillan                              -0.035322\nsold_by_Penguin Group (USA) LLC                -0.000000\nsold_by_RCS MediaGroup S.p.A.                  -0.000000\nsold_by_Random House                           -0.076471\nsold_by_Simon and Schuster Digital Sales Inc   -0.019687\npublisher_type_big five                        -0.031178\npublisher_type_indie                            0.000000\npublisher_type_single author                   -0.000000\npublisher_type_small/medium                    -0.058486\n0                                               0.000000\n1                                               0.000000\n2                                               0.000000\ndtype: float64"
     },
     "execution_count": 7,
     "metadata": {},
     "output_type": "execute_result"
    }
   ]
  },
  {
   "cell_type": "markdown",
   "source": [
    "### 3 - Boosting and random forest\n",
    "\n",
    "Boosting and random forest are the popular alternatives to linear methods above.\n",
    "The advantage of tree based methods is better performance at the cost\n",
    "of training time and much more optimization needed. There are over 10 hyper parameters\n",
    "to be tuned for each algorithm. However, we only search for max depth as training\n",
    "time increases significantly to tune another hyper parameter and the performance\n",
    "is not improving much.\n",
    "\n",
    "The fitting process is the same as before with GridsearchCV"
   ],
   "metadata": {
    "collapsed": false,
    "pycharm": {
     "name": "#%% md\n",
     "is_executing": false
    }
   }
  },
  {
   "cell_type": "code",
   "execution_count": 8,
   "outputs": [
    {
     "name": "stderr",
     "output_type": "stream",
     "text": [
      "100%|██████████| 2/2 [07:30<00:00, 225.01s/it]\n"
     ]
    },
    {
     "name": "stdout",
     "output_type": "stream",
     "text": [
      "Model: random_forest\n",
      "Train RMSE: 0.94\n",
      "Test RMSE: 0.91\n",
      "Best params: {'max_depth': 10}\n",
      "\n",
      "Model: boosting\n",
      "Train RMSE: 0.94\n",
      "Test RMSE: 0.89\n",
      "Best params: {'learning_rate': 0.1, 'max_depth': 5}\n",
      "\n"
     ]
    }
   ],
   "source": [
    "# Set up alphas range from small to very large\n",
    "max_depth = [2,5,10,100,200]\n",
    "learning_rate = np.linspace(0.1,5,10)\n",
    "\n",
    "# dictionary mapping model and hyper-parameter\n",
    "models_and_parameters = {\n",
    "    'random_forest': (RandomForestRegressor(), {'max_depth': max_depth}),\n",
    "    'boosting': (GradientBoostingRegressor(), {'learning_rate': learning_rate, 'max_depth': max_depth})}\n",
    "\n",
    "# find the best model with lowest mse\n",
    "for name, (model, params) in tqdm(models_and_parameters.items()):\n",
    "    # searches for the best hyper-parameter using inner folds\n",
    "    grid = GridSearchCV(estimator=model,\n",
    "                        param_grid=params,\n",
    "                        cv=3,\n",
    "                        scoring='neg_root_mean_squared_error',\n",
    "                        n_jobs=-1)\n",
    "    # fit\n",
    "    grid_result = grid.fit(X_train_scaled, y_train)\n",
    "\n",
    "    # Test set error\n",
    "    y_pred = grid.predict(X_test_scaled)\n",
    "    test_rmse = np.round(mean_squared_error(y_test, y_pred), 2)\n",
    "\n",
    "    # adding the test rmse into the dictionary for comparison\n",
    "    rmse_dict[name] = test_rmse\n",
    "\n",
    "    # Print error summary\n",
    "    error_summary = f'Model: {name}' \\\n",
    "                    f'\\nTrain RMSE: {np.round(-1 * grid_result.best_score_, 2)}' \\\n",
    "                    f'\\nTest RMSE: {test_rmse}' \\\n",
    "                    f'\\nBest params: {grid_result.best_params_}'\n",
    "    print(error_summary)\n",
    "    print()"
   ],
   "metadata": {
    "collapsed": false,
    "pycharm": {
     "name": "#%%\n"
    }
   }
  },
  {
   "cell_type": "markdown",
   "source": [
    "### 3.1 - Refit random forest\n",
    "\n",
    "Now we use the best hyper parameter on training data to get the test MSE"
   ],
   "metadata": {
    "collapsed": false,
    "pycharm": {
     "name": "#%% md\n"
    }
   }
  },
  {
   "cell_type": "code",
   "execution_count": 9,
   "outputs": [
    {
     "data": {
      "text/plain": "average_rating                                  5.696393e-02\nsale_price                                      1.013560e-01\ntotal_reviews                                   3.973676e-01\ngenre_comics                                    2.741295e-04\ngenre_fiction                                   3.172854e-02\ngenre_foreign language                          7.324023e-04\ngenre_genre fiction                             2.693267e-01\ngenre_nonfiction                                6.481650e-03\nsold_by_Cengage Learning                        2.666228e-05\nsold_by_DC Comics                               6.470260e-04\nsold_by_Hachette Book Group                     6.402864e-04\nsold_by_HarperCollins                           1.264437e-03\nsold_by_Idea & Design Works                     1.166535e-04\nsold_by_Macmillan                               4.905287e-04\nsold_by_Penguin Group (USA) LLC                 1.098278e-03\nsold_by_RCS MediaGroup S.p.A.                   3.812607e-07\nsold_by_Random House                            1.750603e-03\nsold_by_Simon and Schuster Digital Sales Inc    5.672668e-04\npublisher_type_big five                         9.478089e-04\npublisher_type_indie                            8.516912e-04\npublisher_type_single author                    3.410792e-04\npublisher_type_small/medium                     2.930158e-03\n0                                               0.000000e+00\ndtype: float64"
     },
     "execution_count": 9,
     "metadata": {},
     "output_type": "execute_result"
    }
   ],
   "source": [
    "# refit with best hyper params on whole data\n",
    "rf = RandomForestRegressor(max_depth=10)\n",
    "rf.fit(X_scaled, y)\n",
    "\n",
    "# feature importance\n",
    "feature_importance = pd.Series(rf.feature_importances_, index=X.columns)[:23]\n",
    "feature_importance"
   ],
   "metadata": {
    "collapsed": false,
    "pycharm": {
     "name": "#%%\n"
    }
   }
  },
  {
   "cell_type": "markdown",
   "source": [
    "Feature importance shows the same intuition as our ridge regression above."
   ],
   "metadata": {
    "collapsed": false,
    "pycharm": {
     "name": "#%% md\n"
    }
   }
  },
  {
   "cell_type": "code",
   "execution_count": 10,
   "outputs": [
    {
     "name": "stderr",
     "output_type": "stream",
     "text": [
      "findfont: Font family ['Franklin Gothic Book'] not found. Falling back to DejaVu Sans.\n",
      "findfont: Font family ['Franklin Gothic Book'] not found. Falling back to DejaVu Sans.\n"
     ]
    },
    {
     "data": {
      "text/plain": "<Figure size 432x288 with 1 Axes>",
      "image/png": "[encoded data removed]"
     },
     "metadata": {},
     "output_type": "display_data"
    }
   ],
   "source": [
    "# top 10 feature importance\n",
    "top_10 = feature_importance.sort_values(ascending=False)[:10].reset_index()\n",
    "\n",
    "# plot top 10 feature importance\n",
    "sns.barplot(x=0,\n",
    "            y='index',\n",
    "            data=top_10,\n",
    "            color='#2CBDFE')\n",
    "\n",
    "# plot parameters\n",
    "plt.title('Random forest top 10 feature importance')\n",
    "plt.xlabel('')\n",
    "plt.ylabel('')\n",
    "plt.tight_layout()\n",
    "plt.savefig('D:\\\\PycharmProjects\\\\springboard\\\\ebook_analysis\\\\images\\\\feature_importance.png')"
   ],
   "metadata": {
    "collapsed": false,
    "pycharm": {
     "name": "#%%\n"
    }
   }
  }
 ],
 "metadata": {
  "kernelspec": {
   "display_name": "Python 3",
   "language": "python",
   "name": "python3"
  },
  "language_info": {
   "codemirror_mode": {
    "name": "ipython",
    "version": 2
   },
   "file_extension": ".py",
   "mimetype": "text/x-python",
   "name": "python",
   "nbconvert_exporter": "python",
   "pygments_lexer": "ipython2",
   "version": "2.7.6"
  }
 },
 "nbformat": 4,
 "nbformat_minor": 0
}