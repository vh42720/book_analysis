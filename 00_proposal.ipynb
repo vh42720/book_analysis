{
 "cells": [
  {
   "cell_type": "markdown",
   "metadata": {
    "collapsed": true,
    "pycharm": {
     "name": "#%% md\n"
    }
   },
   "source": [
    "### Project proposal\n",
    "\n",
    "Writing a bestseller is hard. However, a bestseller can create a generous income stream that trickles from the author to publishers and\n",
    "retailers. But there are thousands of titles being published every year and most of them goes unnoticed.\n",
    "Moreover, the digital conversion to e-books, with its simplified publishing process, also makes this industry more competitive than ever.\n",
    "\n",
    "The problem comes from the fact that good writing is only half of the battle.\n",
    "Knowing what make a book popular with readers provides the remaining insights on\n",
    "creating the next bestseller. The goal is to help authors designing their next e-book\n",
    "that have a higher chance to become a financial success! The following analysis seeks to find the best features that helps e-book sell well.\n",
    "What genre should it focuses on? Does rating matter?\n",
    "\n",
    "The task is to build a prediction model on unit sale of e-book and from there\n",
    "determine the main features effecting book sales. Two algorithms are used to model\n",
    "this supervised problem: linear regressions and tree-based regressions.\n",
    "\n",
    "This project will use the [publishers](https://corgis-edu.github.io/corgis/csv/publishers/)\n",
    "dataset that includes e-book sales data from Amazon for 27k titles in 2015."
   ]
  }
 ],
 "metadata": {
  "kernelspec": {
   "display_name": "Python 3",
   "language": "python",
   "name": "python3"
  },
  "language_info": {
   "codemirror_mode": {
    "name": "ipython",
    "version": 2
   },
   "file_extension": ".py",
   "mimetype": "text/x-python",
   "name": "python",
   "nbconvert_exporter": "python",
   "pygments_lexer": "ipython2",
   "version": "2.7.6"
  }
 },
 "nbformat": 4,
 "nbformat_minor": 0
}