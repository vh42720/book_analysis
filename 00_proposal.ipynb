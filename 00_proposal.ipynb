{
 "cells": [
  {
   "cell_type": "markdown",
   "metadata": {
    "collapsed": true,
    "pycharm": {
     "name": "#%% md\n"
    }
   },
   "source": [
    "### Project proposal\n",
    "\n",
    "Write a bestseller is hard. In fact, there are thousands of title being published\n",
    "every year and most of them goes unnoticed. However, a bestseller can create\n",
    "a generous income stream that trickles from the author to publishers to movies\n",
    " and to many retailers like Amazon,...Taking a look at what popular with readers\n",
    " can provide valuable insights on how to tackle/chose the next book project that\n",
    " can be a financial success!\n",
    "\n",
    "What are the best characteristics of a successful book? How to get good sales?\n",
    "What genre should it focuses on? How to get the best rating possible? Below is the objective analysis to answer\n",
    "these questions. This paper will show the best approach to creating a popular which\n",
    "is not necessarily a good book.\n",
    "\n",
    "The goal is to build a prediction model on unit sale of ebook and from there\n",
    "determine the main features effecting book sales. Two approaches are used to model\n",
    "this supervised problems: linear regressions variants and trees.\n",
    "\n",
    "3 datasets will be used for this project:\n",
    "1. [publishers](https://corgis-edu.github.io/corgis/csv/publishers/)\n",
    "    * Ebook sales data from Amazon for 27k titles in 2015\n",
    "2. [BX-Book-Rating](http://www2.informatik.uni-freiburg.de/~cziegler/BX/)\n",
    "    * Rating info on over 270k titles\n",
    "3. [BX-Books](http://www2.informatik.uni-freiburg.de/~cziegler/BX/)\n",
    "    * Books info on over 270k title above. Lacking isbn!"
   ]
  }
 ],
 "metadata": {
  "kernelspec": {
   "display_name": "Python 3",
   "language": "python",
   "name": "python3"
  },
  "language_info": {
   "codemirror_mode": {
    "name": "ipython",
    "version": 2
   },
   "file_extension": ".py",
   "mimetype": "text/x-python",
   "name": "python",
   "nbconvert_exporter": "python",
   "pygments_lexer": "ipython2",
   "version": "2.7.6"
  }
 },
 "nbformat": 4,
 "nbformat_minor": 0
}