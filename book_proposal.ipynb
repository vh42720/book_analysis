{
 "cells": [
  {
   "cell_type": "markdown",
   "source": [
    "### Project proposals\n",
    "Q. What is the problem I want to solve.  \n",
    "\n",
    "While large brick and mortar book stores are closing down en massed, book sales has\n",
    "been unaffected through online sales and \n",
    "[independent bookstores](https://www.npr.org/2018/03/29/598053563/why-the-number-of-independent-bookstores-increased-during-the-retail-apocalypse]).\n",
    "Pew research also shows 72% adults in the US read a book in the past 12 months. There\n",
    "are things to be learned from these emerging markets.  \n",
    "I want to predict the book sale volume/revenue based on genre, publishers and total\n",
    "number of Amazon review. Using this along with another data set containing the book\n",
    "characteristics, we can learn how a book can get to be top sellers. Moreover, it \n",
    "also outlines a book recommender system. \n",
    "\n",
    "Q. Who is your client and why do they care about this problem? In other words, \n",
    "what will your client do or decide based on your analysis that they wouldn’t have \n",
    "done otherwise?  \n",
    "\n",
    "My clients are independent/online book retailers. My analysis would suggest a priority\n",
    "list for them to purchase new rights for the books. A sitting inventory is dead money.\n",
    "If they have a rough idea of how genre and reviews affect book sales, they can take\n",
    "advantage of specializing on niche segment of the market instead of\n",
    "trying to compete with large retailers like Amazon.  \n",
    "My other aim is for the public sector - libraries. Popular genre, high rating books should\n",
    "be prioritize by library funds as their demand is higher. \n",
    "\n",
    "Q. What data are you using? How will you acquire the data?  \n",
    "\n",
    "I am using 2 set of dataset: [publishers](https://corgis-edu.github.io/corgis/csv/publishers/) and \n",
    "[bookrating](http://www2.informatik.uni-freiburg.de/~cziegler/BX/) \n",
    "The data is freely available.\n",
    "\n",
    "Q. Briefly outline how you’ll solve this problem\n",
    "  1. Is this a supervised or unsupervised problem?  \n",
    "        This is a supervised problem.\n",
    "  2. If supervised is it a classification or regression problem?  \n",
    "        Regression.\n",
    "  3. What variable is it you are trying to predict?  \n",
    "        Sales volume / Revenue\n",
    "  4. What variables will you use as predictors?  \n",
    "        genre, sale_price, publisher_type, statistics_total_reviews, sold_by \n",
    "  5. What will be your training data?  \n",
    "        I will use K-fold for this problem. \n",
    "\n",
    "\n"
   ],
   "metadata": {
    "collapsed": false
   }
  }
 ],
 "metadata": {
  "kernelspec": {
   "display_name": "Python 3",
   "language": "python",
   "name": "python3"
  },
  "language_info": {
   "codemirror_mode": {
    "name": "ipython",
    "version": 2
   },
   "file_extension": ".py",
   "mimetype": "text/x-python",
   "name": "python",
   "nbconvert_exporter": "python",
   "pygments_lexer": "ipython2",
   "version": "2.7.6"
  },
  "pycharm": {
   "stem_cell": {
    "cell_type": "raw",
    "source": [],
    "metadata": {
     "collapsed": false
    }
   }
  }
 },
 "nbformat": 4,
 "nbformat_minor": 0
}
