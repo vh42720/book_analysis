{
 "cells": [
  {
   "cell_type": "markdown",
   "source": [
    "### 01 - Cleaning the datasets\n",
    "\n",
    "This notebook outlines the cleaning process for the publishers data set which\n",
    "contains Amazon ebook daily sales records from 2015. The data is taken from\n",
    "Corgis project. Fortunately, the data is clearly label and preprocessed.\n",
    "The main objectives would be removing redundant columns and reformatting\n",
    "some names.\n",
    "\n",
    "Data:\n",
    "1. [publishers](https://corgis-edu.github.io/corgis/csv/publishers/)\n",
    "    * Ebook sales data from Amazon for 27k titles in 2015\n",
    "\n",
    "After cleaning, the data is renamed to book_sales for easy reference."
   ],
   "metadata": {
    "collapsed": false,
    "pycharm": {
     "name": "#%% md\n"
    }
   }
  },
  {
   "cell_type": "code",
   "execution_count": 9,
   "outputs": [],
   "source": [
    "import pandas as pd\n",
    "import matplotlib.pyplot as plt\n",
    "\n",
    "%matplotlib inline\n",
    "plt.style.use('seaborn-white')"
   ],
   "metadata": {
    "collapsed": false,
    "pycharm": {
     "name": "#%%\n"
    }
   }
  },
  {
   "cell_type": "markdown",
   "source": [
    "## book_sales data\n",
    "\n",
    "Steps:\n",
    "1. lowercase columns' name and change them to snake cases.\n",
    "2. since multiple sales metrics are recorded which serve the same purpose in our\n",
    "case, we keep only the unit sales column.\n",
    "3. sold by column has come level with different names for the same companies.\n",
    "All the sub companies name are grouped into one.\n",
    "    * Harper Collins Christian Publishings, Publishers and Publishing become HarperCollins\n",
    "    * Random House LLC and Mondadori become Random House"
   ],
   "metadata": {
    "collapsed": false,
    "pycharm": {
     "name": "#%% md\n"
    }
   }
  },
  {
   "cell_type": "code",
   "execution_count": 10,
   "outputs": [
    {
     "name": "stdout",
     "output_type": "stream",
     "text": [
      "<class 'pandas.core.frame.DataFrame'>\n",
      "RangeIndex: 27027 entries, 0 to 27026\n",
      "Data columns (total 8 columns):\n",
      " #   Column                    Non-Null Count  Dtype  \n",
      "---  ------                    --------------  -----  \n",
      " 0   genre                     27027 non-null  object \n",
      " 1   sold_by                   27027 non-null  object \n",
      " 2   daily_average_units_sold  27027 non-null  int64  \n",
      " 3   publisher_name            27027 non-null  object \n",
      " 4   publisher_type            27027 non-null  object \n",
      " 5   average_rating            27027 non-null  float64\n",
      " 6   sale_price                27027 non-null  float64\n",
      " 7   total_reviews             27027 non-null  int64  \n",
      "dtypes: float64(2), int64(2), object(4)\n",
      "memory usage: 1.6+ MB\n"
     ]
    }
   ],
   "source": [
    "# loading Publisher dataset\n",
    "data_path = 'D:\\\\PycharmProjects\\\\springboard\\\\data'\n",
    "sales = pd.read_csv(f'{data_path}\\\\publishers.csv')\n",
    "\n",
    "# replace dot and space in columns name. Remove the word statistic in column name\n",
    "sales.columns = sales.columns.str.replace(r'[\\.\\s]', '_').str.replace('statistics_', '')\n",
    "\n",
    "# remove multiple revenues and gross sales columns   as these will create multicollinearity\n",
    "# only keep units_sold column\n",
    "sales = sales.drop(sales.columns[2:6], axis=1)\n",
    "sales = sales.drop('sales_rank', axis=1)\n",
    "\n",
    "# rename sold_by sub companies name\n",
    "# list of repeated companies name\n",
    "harper = ['HarperCollins Christian Publishing', 'HarperCollins Publishers','HarperCollins Publishing']\n",
    "randomhouse = ['Random House LLC', 'Random House Mondadori']\n",
    "\n",
    "# finding HarperCollins\n",
    "sales['sold_by'] = sales['sold_by'].replace(harper, 'HarperCollins')\n",
    "sales['sold_by'] = sales['sold_by'].replace(randomhouse, 'Random House')\n",
    "\n",
    "# save the cleaned data with new name\n",
    "sales.to_csv(f'{data_path}\\\\book_sales.csv')\n",
    "\n",
    "# cleaned data set\n",
    "sales.info()"
   ],
   "metadata": {
    "collapsed": false,
    "pycharm": {
     "name": "#%%\n"
    }
   }
  }
 ],
 "metadata": {
  "kernelspec": {
   "display_name": "Python 3",
   "language": "python",
   "name": "python3"
  },
  "language_info": {
   "codemirror_mode": {
    "name": "ipython",
    "version": 2
   },
   "file_extension": ".py",
   "mimetype": "text/x-python",
   "name": "python",
   "nbconvert_exporter": "python",
   "pygments_lexer": "ipython2",
   "version": "2.7.6"
  }
 },
 "nbformat": 4,
 "nbformat_minor": 0
}